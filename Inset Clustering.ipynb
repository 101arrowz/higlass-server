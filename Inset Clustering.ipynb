{
 "cells": [
  {
   "cell_type": "code",
   "execution_count": 14,
   "metadata": {
    "scrolled": true
   },
   "outputs": [
    {
     "name": "stdout",
     "output_type": "stream",
     "text": [
      "The autoreload extension is already loaded. To reload it, use:\n",
      "  %reload_ext autoreload\n"
     ]
    }
   ],
   "source": [
    "%load_ext autoreload\n",
    "%autoreload 2\n",
    "\n",
    "from __future__ import absolute_import, division, print_function, unicode_literals\n",
    "\n",
    "import math\n",
    "import numpy as np\n",
    "import time\n",
    "\n",
    "from hdbscan import HDBSCAN\n",
    "from tilesets.models import Tileset\n",
    "from fragments.utils import cluster_fragments\n",
    "from sklearn.utils.extmath import cartesian\n",
    "from sklearn.metrics.pairwise import pairwise_distances\n",
    "\n",
    "from matplotlib.pyplot import imshow\n",
    "import matplotlib.pyplot as plt\n",
    "%matplotlib inline"
   ]
  },
  {
   "cell_type": "code",
   "execution_count": 13,
   "metadata": {},
   "outputs": [],
   "source": [
    "tile_set_uuids = ['gigapan-54825-snapshots']\n",
    "z = 2\n",
    "x_from = 0\n",
    "x_to = 454330\n",
    "y_from = 0\n",
    "y_to = 149278\n",
    "width = 600\n",
    "height = 200\n",
    "i_min = 16\n",
    "i_max = 64\n",
    "t = 16\n",
    "n = 4"
   ]
  },
  {
   "cell_type": "code",
   "execution_count": 1,
   "metadata": {
    "scrolled": false
   },
   "outputs": [
    {
     "ename": "NameError",
     "evalue": "name 'tile_set_uuids' is not defined",
     "output_type": "error",
     "traceback": [
      "\u001b[0;31m---------------------------------------------------------------------------\u001b[0m",
      "\u001b[0;31mNameError\u001b[0m                                 Traceback (most recent call last)",
      "\u001b[0;32m<ipython-input-1-8ba2451590c9>\u001b[0m in \u001b[0;36m<module>\u001b[0;34m()\u001b[0m\n\u001b[1;32m      3\u001b[0m     tile_sets = list(map(\n\u001b[1;32m      4\u001b[0m         \u001b[0;32mlambda\u001b[0m \u001b[0muuid\u001b[0m\u001b[0;34m:\u001b[0m \u001b[0mTileset\u001b[0m\u001b[0;34m.\u001b[0m\u001b[0mobjects\u001b[0m\u001b[0;34m.\u001b[0m\u001b[0mget\u001b[0m\u001b[0;34m(\u001b[0m\u001b[0muuid\u001b[0m\u001b[0;34m=\u001b[0m\u001b[0muuid\u001b[0m\u001b[0;34m)\u001b[0m\u001b[0;34m,\u001b[0m\u001b[0;34m\u001b[0m\u001b[0m\n\u001b[0;32m----> 5\u001b[0;31m         \u001b[0mtile_set_uuids\u001b[0m\u001b[0;34m\u001b[0m\u001b[0m\n\u001b[0m\u001b[1;32m      6\u001b[0m     ))\n\u001b[1;32m      7\u001b[0m \u001b[0;32mexcept\u001b[0m \u001b[0mTileset\u001b[0m\u001b[0;34m.\u001b[0m\u001b[0mDoesNotExist\u001b[0m \u001b[0;32mas\u001b[0m \u001b[0me\u001b[0m\u001b[0;34m:\u001b[0m\u001b[0;34m\u001b[0m\u001b[0m\n",
      "\u001b[0;31mNameError\u001b[0m: name 'tile_set_uuids' is not defined"
     ]
    }
   ],
   "source": [
    "try:\n",
    "    # Map UUIDs to tile set objects\n",
    "    tile_sets = list(map(\n",
    "        lambda uuid: Tileset.objects.get(uuid=uuid),\n",
    "        tile_set_uuids\n",
    "    ))\n",
    "except Tileset.DoesNotExist as e:\n",
    "    print('SCHISS')\n",
    "    tile_sets = []\n",
    "\n",
    "out = cluster_fragments(\n",
    "    tile_sets=tile_sets,\n",
    "    zoom_level=z,\n",
    "    x_from=x_from,\n",
    "    x_to=x_to,\n",
    "    y_from=y_from,\n",
    "    y_to=y_to,\n",
    "    width=width,\n",
    "    height=height,\n",
    "    inset_disp_size_min=i_min,\n",
    "    inset_disp_size_max=i_max,\n",
    "    inset_thres=t,\n",
    "    min_cluster_size=n,\n",
    ")\n",
    "\n",
    "imshow(out['ass'])\n",
    "\n",
    "del out['ass']\n",
    "\n",
    "print(out)"
   ]
  },
  {
   "cell_type": "code",
   "execution_count": 12,
   "metadata": {},
   "outputs": [
    {
     "data": {
      "text/plain": [
       "3"
      ]
     },
     "execution_count": 12,
     "metadata": {},
     "output_type": "execute_result"
    }
   ],
   "source": [
    "a = np.array([[5,2],[2,3],[7,9],[-1,4],[5,10]])\n",
    "ass = np.array([0,1,1,0,1])\n",
    "a[np.where(ass == 1)].shape"
   ]
  },
  {
   "cell_type": "code",
   "execution_count": 28,
   "metadata": {
    "scrolled": true
   },
   "outputs": [
    {
     "name": "stdout",
     "output_type": "stream",
     "text": [
      "[[0.         3.16227766 7.28010989 6.32455532 8.        ]\n",
      " [3.16227766 0.         7.81024968 3.16227766 7.61577311]\n",
      " [7.28010989 7.81024968 0.         9.43398113 2.23606798]\n",
      " [6.32455532 3.16227766 9.43398113 0.         8.48528137]\n",
      " [8.         7.61577311 2.23606798 8.48528137 0.        ]]\n",
      "[24.76694287 21.7505781  26.76040867 27.40609549 26.33712246]\n",
      "5\n",
      "[6.19173572 5.43764453 6.69010217 6.85152387 6.58428061]\n",
      "6.351057379551956\n",
      "[4.95338857 4.35011562 5.35208173 5.4812191  5.26742449]\n"
     ]
    }
   ],
   "source": [
    "print(pairwise_distances(a))\n",
    "print(np.sum(pairwise_distances(a), axis=0))\n",
    "print(a.shape[0])\n",
    "print(np.sum(pairwise_distances(a), axis=0) / (a.shape[0] - 1))\n",
    "print(np.mean(np.sum(pairwise_distances(a), axis=0) / (a.shape[0] - 1)))\n",
    "print(np.mean(pairwise_distances(a), axis=0))"
   ]
  },
  {
   "cell_type": "code",
   "execution_count": 2,
   "metadata": {
    "scrolled": true
   },
   "outputs": [
    {
     "data": {
      "text/plain": [
       "'{\"1\": \"ass\"}'"
      ]
     },
     "execution_count": 2,
     "metadata": {},
     "output_type": "execute_result"
    }
   ],
   "source": [
    "import json\n",
    "json.dumps({ 1: 'ass' })"
   ]
  },
  {
   "cell_type": "code",
   "execution_count": 4,
   "metadata": {},
   "outputs": [
    {
     "ename": "NameError",
     "evalue": "name 'NaN' is not defined",
     "output_type": "error",
     "traceback": [
      "\u001b[0;31m---------------------------------------------------------------------------\u001b[0m",
      "\u001b[0;31mNameError\u001b[0m                                 Traceback (most recent call last)",
      "\u001b[0;32m<ipython-input-4-229a16d91ac4>\u001b[0m in \u001b[0;36m<module>\u001b[0;34m()\u001b[0m\n\u001b[0;32m----> 1\u001b[0;31m \u001b[0;34m'ass'\u001b[0m \u001b[0;32mif\u001b[0m \u001b[0mNaN\u001b[0m \u001b[0;32melse\u001b[0m \u001b[0;34m'hole'\u001b[0m\u001b[0;34m\u001b[0m\u001b[0m\n\u001b[0m",
      "\u001b[0;31mNameError\u001b[0m: name 'NaN' is not defined"
     ]
    }
   ],
   "source": [
    "'ass' if NaN else 'hole'"
   ]
  },
  {
   "cell_type": "code",
   "execution_count": null,
   "metadata": {},
   "outputs": [],
   "source": []
  }
 ],
 "metadata": {
  "kernelspec": {
   "display_name": "Django Shell-Plus",
   "language": "python",
   "name": "django_extensions"
  },
  "language_info": {
   "codemirror_mode": {
    "name": "ipython",
    "version": 3
   },
   "file_extension": ".py",
   "mimetype": "text/x-python",
   "name": "python",
   "nbconvert_exporter": "python",
   "pygments_lexer": "ipython3",
   "version": "3.5.2"
  }
 },
 "nbformat": 4,
 "nbformat_minor": 2
}
