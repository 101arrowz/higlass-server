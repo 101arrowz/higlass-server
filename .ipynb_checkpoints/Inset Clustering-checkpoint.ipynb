{
 "cells": [
  {
   "cell_type": "code",
   "execution_count": 20,
   "metadata": {},
   "outputs": [],
   "source": [
    "%loadext autoreload\n",
    "%autoreload 2\n",
    "\n",
    "from __future__ import absolute_import, division, print_function, unicode_literals\n",
    "\n",
    "import math\n",
    "import numpy as np\n",
    "import time\n",
    "\n",
    "from hdbscan import HDBSCAN\n",
    "from tilesets.models import Tileset\n",
    "from fragments.utils import cluster_fragments\n",
    "from sklearn.utils.extmath import cartesian\n",
    "\n",
    "from matplotlib.pyplot import imshow\n",
    "import matplotlib.pyplot as plt\n",
    "%matplotlib inline"
   ]
  },
  {
   "cell_type": "code",
   "execution_count": 13,
   "metadata": {},
   "outputs": [],
   "source": [
    "tile_set_uuids = ['gigapan-54825-snapshots']\n",
    "z = 2\n",
    "x_from = 0\n",
    "x_to = 454330\n",
    "y_from = 0\n",
    "y_to = 149278\n",
    "width = 600\n",
    "height = 200\n",
    "i_min = 16\n",
    "i_max = 64\n",
    "t = 16\n",
    "n = 4"
   ]
  },
  {
   "cell_type": "code",
   "execution_count": 14,
   "metadata": {
    "scrolled": false
   },
   "outputs": [
    {
     "name": "stderr",
     "output_type": "stream",
     "text": [
      "DEBUG (0.000) SELECT \"tilesets_tileset\".\"id\", \"tilesets_tileset\".\"created\", \"tilesets_tileset\".\"uuid\", \"tilesets_tileset\".\"datafile\", \"tilesets_tileset\".\"filetype\", \"tilesets_tileset\".\"datatype\", \"tilesets_tileset\".\"coordSystem\", \"tilesets_tileset\".\"coordSystem2\", \"tilesets_tileset\".\"owner_id\", \"tilesets_tileset\".\"private\", \"tilesets_tileset\".\"name\" FROM \"tilesets_tileset\" WHERE \"tilesets_tileset\".\"uuid\" = 'gigapan-54825-snapshots'; args=('gigapan-54825-snapshots',)\n"
     ]
    },
    {
     "name": "stdout",
     "output_type": "stream",
     "text": [
      "{'view_area': 120000, 'inset_stress': 0.02846116497742368, 'feature_area_total': 25528, 'inset_area_total': 3415, 'feature_stress': 0.21273333333333333, 'num_insets': 32, 'num_clust': 2}\n"
     ]
    },
    {
     "data": {
      "image/png": "[encoded data removed]",
      "text/plain": [
       "<matplotlib.figure.Figure at 0x108b0bef0>"
      ]
     },
     "metadata": {},
     "output_type": "display_data"
    }
   ],
   "source": [
    "try:\n",
    "    # Map UUIDs to tile set objects\n",
    "    tile_sets = list(map(\n",
    "        lambda uuid: Tileset.objects.get(uuid=uuid),\n",
    "        tile_set_uuids\n",
    "    ))\n",
    "except Tileset.DoesNotExist as e:\n",
    "    print('SCHISS')\n",
    "    tile_sets = []\n",
    "\n",
    "out = cluster_fragments(\n",
    "    tile_sets=tile_sets,\n",
    "    zoom_level=z,\n",
    "    x_from=x_from,\n",
    "    x_to=x_to,\n",
    "    y_from=y_from,\n",
    "    y_to=y_to,\n",
    "    width=width,\n",
    "    height=height,\n",
    "    inset_disp_size_min=i_min,\n",
    "    inset_disp_size_max=i_max,\n",
    "    inset_thres=t,\n",
    "    min_cluster_size=n,\n",
    ")\n",
    "\n",
    "imshow(out['ass'])\n",
    "\n",
    "del out['ass']\n",
    "\n",
    "print(out)"
   ]
  },
  {
   "cell_type": "code",
   "execution_count": 19,
   "metadata": {},
   "outputs": [
    {
     "data": {
      "text/plain": [
       "array([   0.,  256.,  512.,  768., 1024.])"
      ]
     },
     "execution_count": 19,
     "metadata": {},
     "output_type": "execute_result"
    }
   ],
   "source": [
    "np.linspace(0.0, 1024.0, num=5)"
   ]
  },
  {
   "cell_type": "code",
   "execution_count": 22,
   "metadata": {},
   "outputs": [
    {
     "data": {
      "text/plain": [
       "array([[1, 1],\n",
       "       [1, 2],\n",
       "       [1, 3],\n",
       "       [2, 1],\n",
       "       [2, 2],\n",
       "       [2, 3],\n",
       "       [3, 1],\n",
       "       [3, 2],\n",
       "       [3, 3]])"
      ]
     },
     "execution_count": 22,
     "metadata": {},
     "output_type": "execute_result"
    }
   ],
   "source": [
    "x = np.array([1,2,3])\n",
    "y = np.array([1,2,3])\n",
    "cartesian([x,y])"
   ]
  },
  {
   "cell_type": "code",
   "execution_count": 26,
   "metadata": {},
   "outputs": [
    {
     "data": {
      "text/plain": [
       "['ass', 'wurst']"
      ]
     },
     "execution_count": 26,
     "metadata": {},
     "output_type": "execute_result"
    }
   ],
   "source": [
    "asswurst = ['ass']\n",
    "asswurst += ['wurst']\n",
    "asswurst += []\n",
    "asswurst"
   ]
  },
  {
   "cell_type": "code",
   "execution_count": null,
   "metadata": {},
   "outputs": [],
   "source": []
  }
 ],
 "metadata": {
  "kernelspec": {
   "display_name": "Django Shell-Plus",
   "language": "python",
   "name": "django_extensions"
  },
  "language_info": {
   "codemirror_mode": {
    "name": "ipython",
    "version": 3
   },
   "file_extension": ".py",
   "mimetype": "text/x-python",
   "name": "python",
   "nbconvert_exporter": "python",
   "pygments_lexer": "ipython3",
   "version": "3.5.2"
  }
 },
 "nbformat": 4,
 "nbformat_minor": 2
}
