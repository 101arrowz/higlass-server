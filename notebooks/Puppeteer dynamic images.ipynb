{
 "cells": [
  {
   "cell_type": "code",
   "execution_count": 11,
   "metadata": {},
   "outputs": [
    {
     "name": "stdout",
     "output_type": "stream",
     "text": [
      "The autoreload extension is already loaded. To reload it, use:\n",
      "  %reload_ext autoreload\n"
     ]
    }
   ],
   "source": [
    "%load_ext autoreload\n",
    "%autoreload 2"
   ]
  },
  {
   "cell_type": "code",
   "execution_count": 12,
   "metadata": {},
   "outputs": [
    {
     "name": "stdout",
     "output_type": "stream",
     "text": [
      "starting chrome\n"
     ]
    },
    {
     "name": "stderr",
     "output_type": "stream",
     "text": [
      "/Users/pete/miniconda3/envs/cenv4/lib/python3.6/site-packages/ipykernel_launcher.py:18: DeprecationWarning: use options instead of chrome_options\n"
     ]
    },
    {
     "name": "stdout",
     "output_type": "stream",
     "text": [
      "started\n",
      "getting\n",
      "executing script\n",
      "{'level': 'SEVERE', 'message': \"javascript 5:22 Uncaught TypeError: Cannot read property 'exportAsPng' of undefined\", 'source': 'javascript', 'timestamp': 1551997158017}\n",
      "{'level': 'WARNING', 'message': 'http://higlass.io/pixi.min.js 15:29954 \"    at n.value (http://higlass.io/higlass-multivec.min.js:1:53022)\\\\n    at n.value (http://higlass.io/higlass-multivec.min.js:1:49923)\\\\n    at n.value (http://higlass.io/higlass-multivec.min.js:1:49131)\\\\n    at n.addMissingGraphics (http://higlass.io/hglib.min.js:11784:18)\\\\n    at n.synchronizeTilesAndGraphics (http://higlass.io/hglib.min.js:11827:14)\\\\n    at n.receivedTiles (http://higlass.io/hglib.min.js:11956:14)\\\\n    at http://higlass.io/hglib.min.js:45497:13\"', 'source': 'console-api', 'timestamp': 1551997158325}\n"
     ]
    },
    {
     "name": "stderr",
     "output_type": "stream",
     "text": [
      "Error: Loading took too much time!"
     ]
    }
   ],
   "source": [
    "from selenium import webdriver\n",
    "from selenium.webdriver.support.ui import WebDriverWait\n",
    "from selenium.webdriver.support import expected_conditions as EC\n",
    "from selenium.webdriver.common.by import By\n",
    "from selenium.common.exceptions import TimeoutException\n",
    "import sys\n",
    "import time\n",
    "import base64\n",
    "\n",
    "chrome_options = webdriver.ChromeOptions()\n",
    "chrome_options.add_argument('--headless')\n",
    "chrome_options.add_argument('--no-sandbox')\n",
    "chrome_options.add_argument('--disable-dev-shm-usage')\n",
    "chrome_options.add_argument('--enable-webgl-image-chromium')\n",
    "chrome_options.add_argument('--disable-application-cache')\n",
    "\n",
    "print(\"starting chrome\")\n",
    "driver = webdriver.Chrome(executable_path=\"/usr/local/bin/chromedriver\",chrome_options=chrome_options)\n",
    "print(\"started\")\n",
    "driver.set_window_size(1024,1280)\n",
    "print(\"getting\")\n",
    "driver.get(\"http://higlass.io/app/?config=L4nKi6eGSzWOpi-rU2DAMA\")\n",
    "delay = 10 # seconds                                                                                                                                                                                                                                                             \n",
    "try:\n",
    "    #hg = WebDriverWait(driver, delay).until(EC.presence_of_element_located((By.CLASS_NAME, 'higlass')))\n",
    "    print(\"executing script\")\n",
    "    data = driver.execute_async_script(\"\"\"                                                                                                                                                                                                                                      \n",
    "var done = arguments[0];                                                                                                                                                                                                                                                        \n",
    "window.setTimeout(function(){ done(                                                                                                                                                                                                                                             \n",
    "    window.higlassApi.exportAsPng()                                                                                                                                                                                                                                             \n",
    "); }, 500);                                                                                                                                                                                                                                                                    \n",
    "\"\"\")\n",
    "    print(\"done executing\")\n",
    "    with open(\"localSeleniumTest.png\", \"wb\") as fh:\n",
    "        print(\"writing\")\n",
    "        fh.write(base64.b64decode(str(data.split(\",\")[1])))\n",
    "except TimeoutException:\n",
    "    for entry in driver.get_log('browser'):\n",
    "        print(entry)\n",
    "    sys.stderr.write(\"Error: Loading took too much time!\")"
   ]
  },
  {
   "cell_type": "code",
   "execution_count": null,
   "metadata": {},
   "outputs": [],
   "source": []
  }
 ],
 "metadata": {
  "kernelspec": {
   "display_name": "Python 3",
   "language": "python",
   "name": "python3"
  },
  "language_info": {
   "codemirror_mode": {
    "name": "ipython",
    "version": 3
   },
   "file_extension": ".py",
   "mimetype": "text/x-python",
   "name": "python",
   "nbconvert_exporter": "python",
   "pygments_lexer": "ipython3",
   "version": "3.6.2"
  }
 },
 "nbformat": 4,
 "nbformat_minor": 2
}
