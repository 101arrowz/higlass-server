{
 "cells": [
  {
   "cell_type": "code",
   "execution_count": 15,
   "metadata": {
    "collapsed": true
   },
   "outputs": [],
   "source": [
    "import json\n",
    "import pandas as pd\n",
    "\n",
    "rao_2014_gm12878_mbol_1kb_mres_chr22_loops = pd.DataFrame(\n",
    "    columns=[\n",
    "        'chrom1', 'start1', 'end1', 'strand1', 'chrom2', 'start2', 'end2', 'strand2', 'dataset', 'zoomOutLevel', 'size', 'distance-to-diagonal', 'noise', 'sharpness', '_test'\n",
    "    ],\n",
    "    data=[\n",
    "        ['22', 17395000, 17400000, 'coding', '22', 17535000, 17540000, 'coding', 'CQMd6V_cRw6iCI_-Unl3PQ', 3, 25000000, 135000, 0.21559968240959723, 58.75532055518839, 1],\n",
    "        ['22', 17395000, 17400000, 'coding', '22', 17535000, 17540000, 'coding', 'otherid', 3, 25000000, 135000, 0.21559968240959723, 58.75532055518839, 1],\n",
    "        ['22', 17400000, 17410000, 'coding', '22', 17980000, 17990000, 'coding', 'CQMd6V_cRw6iCI_-Unl3PQ', 3, 100000000, 570000, 0.19905589933149648, 59.977490663167465, 1],\n",
    "        ['22', 17650000, 17655000, 'coding', '22', 17980000, 17985000, 'coding', 'CQMd6V_cRw6iCI_-Unl3PQ', 3, 25000000, 325000, 0.14815256212601854, 64.92253175598326, 1],\n",
    "        ['22', 17690000, 17700000, 'coding', '22', 18250000, 18260000, 'coding', 'CQMd6V_cRw6iCI_-Unl3PQ', 3, 100000000, 550000, 0.17429119557744693, 76.68972092217017, 1],\n",
    "        ['22', 18310000, 18315000, 'coding', '22', 18550000, 18555000, 'coding', 'CQMd6V_cRw6iCI_-Unl3PQ', 3, 25000000, 235000, 0.10990744960957083, 65.7776861208497, 0],\n",
    "        ['22', 18590000, 18595000, 'coding', '22', 18625000, 18630000, 'coding', 'CQMd6V_cRw6iCI_-Unl3PQ', 3, 25000000, 30000, 0.17950005488839882, 49.85747920263691, 0],\n",
    "        ['22', 18940000, 18950000, 'coding', '22', 20260000, 20270000, 'coding', 'CQMd6V_cRw6iCI_-Unl3PQ', 3, 100000000, 1310000, 0, 0, 0],\n",
    "        ['22', 19160000, 19165000, 'coding', '22', 19460000, 19465000, 'coding', 'CQMd6V_cRw6iCI_-Unl3PQ', 3, 25000000, 295000, 0.13669964082038938, 69.99153454001217, 1],\n",
    "        ['22', 19720000, 19725000, 'coding', '22', 19900000, 19905000, 'coding', 'CQMd6V_cRw6iCI_-Unl3PQ', 3, 25000000, 175000, 0.1396163327022166, 61.809710359000725, 2],\n",
    "        ['22', 20145000, 20150000, 'coding', '22', 20270000, 20275000, 'coding', 'CQMd6V_cRw6iCI_-Unl3PQ', 3, 25000000, 120000, 0.17480706797378637, 61.02384200610669, 1]\n",
    "    ]\n",
    ")"
   ]
  },
  {
   "cell_type": "code",
   "execution_count": 16,
   "metadata": {
    "collapsed": true
   },
   "outputs": [],
   "source": [
    "df = rao_2014_gm12878_mbol_1kb_mres_chr22_loops"
   ]
  },
  {
   "cell_type": "code",
   "execution_count": 17,
   "metadata": {
    "collapsed": true
   },
   "outputs": [],
   "source": [
    "def to_json(df):\n",
    "    return json.dumps([list(df.columns)] + df.values.tolist())"
   ]
  },
  {
   "cell_type": "code",
   "execution_count": 18,
   "metadata": {
    "collapsed": false
   },
   "outputs": [
    {
     "data": {
      "text/plain": [
       "'[[\"chrom1\", \"start1\", \"end1\", \"strand1\", \"chrom2\", \"start2\", \"end2\", \"strand2\", \"dataset\", \"zoomOutLevel\", \"size\", \"distance-to-diagonal\", \"noise\", \"sharpness\", \"_test\"], [\"22\", 17395000, 17400000, \"coding\", \"22\", 17535000, 17540000, \"coding\", \"CQMd6V_cRw6iCI_-Unl3PQ\", 3, 25000000, 135000, 0.21559968240959723, 58.75532055518839, 1], [\"22\", 17395000, 17400000, \"coding\", \"22\", 17535000, 17540000, \"coding\", \"otherid\", 3, 25000000, 135000, 0.21559968240959723, 58.75532055518839, 1], [\"22\", 17400000, 17410000, \"coding\", \"22\", 17980000, 17990000, \"coding\", \"CQMd6V_cRw6iCI_-Unl3PQ\", 3, 100000000, 570000, 0.19905589933149648, 59.977490663167465, 1], [\"22\", 17650000, 17655000, \"coding\", \"22\", 17980000, 17985000, \"coding\", \"CQMd6V_cRw6iCI_-Unl3PQ\", 3, 25000000, 325000, 0.14815256212601854, 64.92253175598326, 1], [\"22\", 17690000, 17700000, \"coding\", \"22\", 18250000, 18260000, \"coding\", \"CQMd6V_cRw6iCI_-Unl3PQ\", 3, 100000000, 550000, 0.17429119557744693, 76.68972092217017, 1], [\"22\", 18310000, 18315000, \"coding\", \"22\", 18550000, 18555000, \"coding\", \"CQMd6V_cRw6iCI_-Unl3PQ\", 3, 25000000, 235000, 0.10990744960957083, 65.7776861208497, 0], [\"22\", 18590000, 18595000, \"coding\", \"22\", 18625000, 18630000, \"coding\", \"CQMd6V_cRw6iCI_-Unl3PQ\", 3, 25000000, 30000, 0.17950005488839882, 49.85747920263691, 0], [\"22\", 18940000, 18950000, \"coding\", \"22\", 20260000, 20270000, \"coding\", \"CQMd6V_cRw6iCI_-Unl3PQ\", 3, 100000000, 1310000, 0.0, 0.0, 0], [\"22\", 19160000, 19165000, \"coding\", \"22\", 19460000, 19465000, \"coding\", \"CQMd6V_cRw6iCI_-Unl3PQ\", 3, 25000000, 295000, 0.13669964082038938, 69.99153454001217, 1], [\"22\", 19720000, 19725000, \"coding\", \"22\", 19900000, 19905000, \"coding\", \"CQMd6V_cRw6iCI_-Unl3PQ\", 3, 25000000, 175000, 0.1396163327022166, 61.809710359000725, 2], [\"22\", 20145000, 20150000, \"coding\", \"22\", 20270000, 20275000, \"coding\", \"CQMd6V_cRw6iCI_-Unl3PQ\", 3, 25000000, 120000, 0.17480706797378637, 61.02384200610669, 1]]'"
      ]
     },
     "execution_count": 18,
     "metadata": {},
     "output_type": "execute_result"
    }
   ],
   "source": [
    "to_json(df)"
   ]
  },
  {
   "cell_type": "code",
   "execution_count": 34,
   "metadata": {
    "collapsed": false
   },
   "outputs": [
    {
     "data": {
      "application/javascript": [
       "\n",
       "    window.hipilerConfig = {\"debug\":false,\"server\":\"http://higlass.io/api/v1/\",\"testing\":false,\"workerLoc\":\"//localhost/hipiler\",\"workerClusterfckHash\":\"\",\"workerTsneHash\":\"\",\"version\":\"1.0.0-beta4\"};\n",
       "    window.hipilerIPhythonData=[[\"chrom1\", \"start1\", \"end1\", \"strand1\", \"chrom2\", \"start2\", \"end2\", \"strand2\", \"dataset\", \"zoomOutLevel\", \"size\", \"distance-to-diagonal\", \"noise\", \"sharpness\", \"_test\"], [\"22\", 17395000, 17400000, \"coding\", \"22\", 17535000, 17540000, \"coding\", \"CQMd6V_cRw6iCI_-Unl3PQ\", 3, 25000000, 135000, 0.21559968240959723, 58.75532055518839, 1], [\"22\", 17400000, 17410000, \"coding\", \"22\", 17980000, 17990000, \"coding\", \"CQMd6V_cRw6iCI_-Unl3PQ\", 3, 100000000, 570000, 0.19905589933149648, 59.977490663167465, 1], [\"22\", 17650000, 17655000, \"coding\", \"22\", 17980000, 17985000, \"coding\", \"CQMd6V_cRw6iCI_-Unl3PQ\", 3, 25000000, 325000, 0.14815256212601854, 64.92253175598326, 1], [\"22\", 17690000, 17700000, \"coding\", \"22\", 18250000, 18260000, \"coding\", \"CQMd6V_cRw6iCI_-Unl3PQ\", 3, 100000000, 550000, 0.17429119557744693, 76.68972092217017, 1], [\"22\", 18310000, 18315000, \"coding\", \"22\", 18550000, 18555000, \"coding\", \"CQMd6V_cRw6iCI_-Unl3PQ\", 3, 25000000, 235000, 0.10990744960957083, 65.7776861208497, 0], [\"22\", 18590000, 18595000, \"coding\", \"22\", 18625000, 18630000, \"coding\", \"CQMd6V_cRw6iCI_-Unl3PQ\", 3, 25000000, 30000, 0.17950005488839882, 49.85747920263691, 0], [\"22\", 18940000, 18950000, \"coding\", \"22\", 20260000, 20270000, \"coding\", \"CQMd6V_cRw6iCI_-Unl3PQ\", 3, 100000000, 1310000, 0.0, 0.0, 0], [\"22\", 19160000, 19165000, \"coding\", \"22\", 19460000, 19465000, \"coding\", \"CQMd6V_cRw6iCI_-Unl3PQ\", 3, 25000000, 295000, 0.13669964082038938, 69.99153454001217, 1], [\"22\", 19720000, 19725000, \"coding\", \"22\", 19900000, 19905000, \"coding\", \"CQMd6V_cRw6iCI_-Unl3PQ\", 3, 25000000, 175000, 0.1396163327022166, 61.809710359000725, 2], [\"22\", 20145000, 20150000, \"coding\", \"22\", 20270000, 20275000, \"coding\", \"CQMd6V_cRw6iCI_-Unl3PQ\", 3, 25000000, 120000, 0.17480706797378637, 61.02384200610669, 1]];\n",
       "    "
      ],
      "text/plain": [
       "<IPython.core.display.Javascript object>"
      ]
     },
     "execution_count": 34,
     "metadata": {},
     "output_type": "execute_result"
    }
   ],
   "source": [
    "from IPython.display import Javascript\n",
    "\n",
    "Javascript(\n",
    "    \"\"\"\n",
    "    window.hipilerConfig = {\"debug\":false,\"server\":\"http://higlass.io/api/v1/\",\"testing\":false,\"workerLoc\":\"//localhost/hipiler\",\"workerClusterfckHash\":\"\",\"workerTsneHash\":\"\",\"version\":\"1.0.0-beta4\"};\n",
    "    window.hipilerIPhythonData=%s;\n",
    "    \"\"\" % (to_json(df))\n",
    ")"
   ]
  },
  {
   "cell_type": "code",
   "execution_count": 41,
   "metadata": {
    "collapsed": false
   },
   "outputs": [
    {
     "data": {
      "application/javascript": [
       "\n",
       "IPython.notebook.kernel.execute('foo=' + JSON.stringify(window.hipilerIPhythonData))"
      ],
      "text/plain": [
       "<IPython.core.display.Javascript object>"
      ]
     },
     "metadata": {},
     "output_type": "display_data"
    }
   ],
   "source": [
    "%%javascript\n",
    "\n",
    "IPython.notebook.kernel.execute('foo=' + JSON.stringify(window.hipilerIPhythonData))"
   ]
  },
  {
   "cell_type": "code",
   "execution_count": 42,
   "metadata": {
    "collapsed": false
   },
   "outputs": [
    {
     "data": {
      "text/plain": [
       "[['chrom1',\n",
       "  'start1',\n",
       "  'end1',\n",
       "  'strand1',\n",
       "  'chrom2',\n",
       "  'start2',\n",
       "  'end2',\n",
       "  'strand2',\n",
       "  'dataset',\n",
       "  'zoomOutLevel',\n",
       "  'size',\n",
       "  'distance-to-diagonal',\n",
       "  'noise',\n",
       "  'sharpness',\n",
       "  '_test'],\n",
       " ['22',\n",
       "  17395000,\n",
       "  17400000,\n",
       "  'coding',\n",
       "  '22',\n",
       "  17535000,\n",
       "  17540000,\n",
       "  'coding',\n",
       "  'CQMd6V_cRw6iCI_-Unl3PQ',\n",
       "  3,\n",
       "  25000000,\n",
       "  135000,\n",
       "  0.21559968240959723,\n",
       "  58.75532055518839,\n",
       "  1],\n",
       " ['22',\n",
       "  17400000,\n",
       "  17410000,\n",
       "  'coding',\n",
       "  '22',\n",
       "  17980000,\n",
       "  17990000,\n",
       "  'coding',\n",
       "  'CQMd6V_cRw6iCI_-Unl3PQ',\n",
       "  3,\n",
       "  100000000,\n",
       "  570000,\n",
       "  0.19905589933149648,\n",
       "  59.977490663167465,\n",
       "  1],\n",
       " ['22',\n",
       "  17650000,\n",
       "  17655000,\n",
       "  'coding',\n",
       "  '22',\n",
       "  17980000,\n",
       "  17985000,\n",
       "  'coding',\n",
       "  'CQMd6V_cRw6iCI_-Unl3PQ',\n",
       "  3,\n",
       "  25000000,\n",
       "  325000,\n",
       "  0.14815256212601854,\n",
       "  64.92253175598326,\n",
       "  1],\n",
       " ['22',\n",
       "  17690000,\n",
       "  17700000,\n",
       "  'coding',\n",
       "  '22',\n",
       "  18250000,\n",
       "  18260000,\n",
       "  'coding',\n",
       "  'CQMd6V_cRw6iCI_-Unl3PQ',\n",
       "  3,\n",
       "  100000000,\n",
       "  550000,\n",
       "  0.17429119557744693,\n",
       "  76.68972092217017,\n",
       "  1],\n",
       " ['22',\n",
       "  18310000,\n",
       "  18315000,\n",
       "  'coding',\n",
       "  '22',\n",
       "  18550000,\n",
       "  18555000,\n",
       "  'coding',\n",
       "  'CQMd6V_cRw6iCI_-Unl3PQ',\n",
       "  3,\n",
       "  25000000,\n",
       "  235000,\n",
       "  0.10990744960957083,\n",
       "  65.7776861208497,\n",
       "  0],\n",
       " ['22',\n",
       "  18590000,\n",
       "  18595000,\n",
       "  'coding',\n",
       "  '22',\n",
       "  18625000,\n",
       "  18630000,\n",
       "  'coding',\n",
       "  'CQMd6V_cRw6iCI_-Unl3PQ',\n",
       "  3,\n",
       "  25000000,\n",
       "  30000,\n",
       "  0.17950005488839882,\n",
       "  49.85747920263691,\n",
       "  0],\n",
       " ['22',\n",
       "  18940000,\n",
       "  18950000,\n",
       "  'coding',\n",
       "  '22',\n",
       "  20260000,\n",
       "  20270000,\n",
       "  'coding',\n",
       "  'CQMd6V_cRw6iCI_-Unl3PQ',\n",
       "  3,\n",
       "  100000000,\n",
       "  1310000,\n",
       "  0,\n",
       "  0,\n",
       "  0],\n",
       " ['22',\n",
       "  19160000,\n",
       "  19165000,\n",
       "  'coding',\n",
       "  '22',\n",
       "  19460000,\n",
       "  19465000,\n",
       "  'coding',\n",
       "  'CQMd6V_cRw6iCI_-Unl3PQ',\n",
       "  3,\n",
       "  25000000,\n",
       "  295000,\n",
       "  0.13669964082038938,\n",
       "  69.99153454001217,\n",
       "  1],\n",
       " ['22',\n",
       "  19720000,\n",
       "  19725000,\n",
       "  'coding',\n",
       "  '22',\n",
       "  19900000,\n",
       "  19905000,\n",
       "  'coding',\n",
       "  'CQMd6V_cRw6iCI_-Unl3PQ',\n",
       "  3,\n",
       "  25000000,\n",
       "  175000,\n",
       "  0.1396163327022166,\n",
       "  61.809710359000725,\n",
       "  2],\n",
       " ['22',\n",
       "  20145000,\n",
       "  20150000,\n",
       "  'coding',\n",
       "  '22',\n",
       "  20270000,\n",
       "  20275000,\n",
       "  'coding',\n",
       "  'CQMd6V_cRw6iCI_-Unl3PQ',\n",
       "  3,\n",
       "  25000000,\n",
       "  120000,\n",
       "  0.17480706797378637,\n",
       "  61.02384200610669,\n",
       "  1]]"
      ]
     },
     "execution_count": 42,
     "metadata": {},
     "output_type": "execute_result"
    }
   ],
   "source": [
    "foo"
   ]
  },
  {
   "cell_type": "code",
   "execution_count": null,
   "metadata": {
    "collapsed": true
   },
   "outputs": [],
   "source": []
  },
  {
   "cell_type": "code",
   "execution_count": 36,
   "metadata": {
    "collapsed": false,
    "scrolled": false
   },
   "outputs": [
    {
     "data": {
      "application/javascript": [
       "\n",
       "require.config({\n",
       "    paths: {\n",
       "        webfont: '//ajax.googleapis.com/ajax/libs/webfont/1.6.26/webfont'\n",
       "    }\n",
       "});\n",
       "\n",
       "function addScript(src, callback, id) {\n",
       "    $(\"#\" + id).remove();\n",
       "    \n",
       "    var s = document.createElement('script');\n",
       "    s.src = src;\n",
       "    s.id = id;\n",
       "    s.type = 'text/javascript';\n",
       "    if (callback) {\n",
       "        s.addEventListener('load', callback);\n",
       "    }\n",
       "    document.body.appendChild(s);\n",
       "}\n",
       "\n",
       "function init() {\n",
       "    // Make sure the element is unique in case the code is executed multiple times\n",
       "    $(element).find(\"#hipiler-wrapper\").remove();\n",
       "\n",
       "    //create canvas\n",
       "    element.append(\n",
       "        '<div id=\"hipiler-wrapper\"><div id=\"hipiler-ratio\"></div><div id=\"hipiler\" aurelia-app=\"main\"></div></div>'\n",
       "    );\n",
       "\n",
       "    $(element).find('#hipiler-wrapper').css({\n",
       "        position: 'relative',\n",
       "        width: '100%',\n",
       "        background: '#efefef'\n",
       "    });\n",
       "\n",
       "    $(element).find('#hipiler-ratio').css({\n",
       "        display: 'block',\n",
       "        width: '100%',\n",
       "        paddingTop: '60%'\n",
       "    });\n",
       "\n",
       "    $(element).find('#hipiler').css({\n",
       "        position: 'absolute',\n",
       "        top: 0,\n",
       "        left: 0,\n",
       "        right: 0,\n",
       "        bottom: 0\n",
       "    });\n",
       "\n",
       "    require(['webfont', 'aurelia-bootstrapper'], function (WebFont, bootstrapper) {\n",
       "        WebFont.load({\n",
       "            google: {\n",
       "              families: ['Rubik', 'Roboto Mono']\n",
       "            }\n",
       "        });\n",
       "        \n",
       "        bootstrapper.bootstrap(function (aurelia) {\n",
       "            aurelia.use\n",
       "                .standardConfiguration()\n",
       "                .feature('resources');\n",
       "\n",
       "            aurelia.start()\n",
       "                .then(function () {\n",
       "                    console.log('Los gehts');\n",
       "                    aurelia.setRoot('app', document.querySelector('#hipiler'));\n",
       "                })\n",
       "                .catch(function (error) {\n",
       "                    console.error('kacken', error);\n",
       "                });\n",
       "        });\n",
       "    });\n",
       "}\n",
       "    \n",
       "addScript('//localhost/hipiler/hipiler.js', function () {\n",
       "    init();\n",
       "}, 'hipiler-source');"
      ],
      "text/plain": [
       "<IPython.core.display.Javascript object>"
      ]
     },
     "metadata": {},
     "output_type": "display_data"
    }
   ],
   "source": [
    "%%javascript\n",
    "\n",
    "require.config({\n",
    "    paths: {\n",
    "        webfont: '//ajax.googleapis.com/ajax/libs/webfont/1.6.26/webfont'\n",
    "    }\n",
    "});\n",
    "\n",
    "function addScript(src, callback, id) {\n",
    "    $(\"#\" + id).remove();\n",
    "    \n",
    "    var s = document.createElement('script');\n",
    "    s.src = src;\n",
    "    s.id = id;\n",
    "    s.type = 'text/javascript';\n",
    "    if (callback) {\n",
    "        s.addEventListener('load', callback);\n",
    "    }\n",
    "    document.body.appendChild(s);\n",
    "}\n",
    "\n",
    "function init() {\n",
    "    // Make sure the element is unique in case the code is executed multiple times\n",
    "    $(element).find(\"#hipiler-wrapper\").remove();\n",
    "\n",
    "    //create canvas\n",
    "    element.append(\n",
    "        '<div id=\"hipiler-wrapper\"><div id=\"hipiler-ratio\"></div><div id=\"hipiler\" aurelia-app=\"main\"></div></div>'\n",
    "    );\n",
    "\n",
    "    $(element).find('#hipiler-wrapper').css({\n",
    "        position: 'relative',\n",
    "        width: '100%',\n",
    "        background: '#efefef'\n",
    "    });\n",
    "\n",
    "    $(element).find('#hipiler-ratio').css({\n",
    "        display: 'block',\n",
    "        width: '100%',\n",
    "        paddingTop: '60%'\n",
    "    });\n",
    "\n",
    "    $(element).find('#hipiler').css({\n",
    "        position: 'absolute',\n",
    "        top: 0,\n",
    "        left: 0,\n",
    "        right: 0,\n",
    "        bottom: 0\n",
    "    });\n",
    "\n",
    "    require(['webfont', 'aurelia-bootstrapper'], function (WebFont, bootstrapper) {\n",
    "        WebFont.load({\n",
    "            google: {\n",
    "              families: ['Rubik', 'Roboto Mono']\n",
    "            }\n",
    "        });\n",
    "        \n",
    "        bootstrapper.bootstrap(function (aurelia) {\n",
    "            aurelia.use\n",
    "                .standardConfiguration()\n",
    "                .feature('resources');\n",
    "\n",
    "            aurelia.start()\n",
    "                .then(function () {\n",
    "                    console.log('Los gehts');\n",
    "                    aurelia.setRoot('app', document.querySelector('#hipiler'));\n",
    "                })\n",
    "                .catch(function (error) {\n",
    "                    console.error('kacken', error);\n",
    "                });\n",
    "        });\n",
    "    });\n",
    "}\n",
    "    \n",
    "addScript('//localhost/hipiler/hipiler.js', function () {\n",
    "    init();\n",
    "}, 'hipiler-source');"
   ]
  },
  {
   "cell_type": "code",
   "execution_count": 62,
   "metadata": {
    "collapsed": false
   },
   "outputs": [
    {
     "data": {
      "text/plain": [
       "array([[0, 1, 2],\n",
       "       [0, 1, 2],\n",
       "       [0, 1, 2]])"
      ]
     },
     "execution_count": 62,
     "metadata": {},
     "output_type": "execute_result"
    }
   ],
   "source": [
    "import numpy as np\n",
    "np.indices((3, 3))[1]"
   ]
  },
  {
   "cell_type": "code",
   "execution_count": 72,
   "metadata": {
    "collapsed": false
   },
   "outputs": [
    {
     "name": "stdout",
     "output_type": "stream",
     "text": [
      "[[ 0.    0.    0.1   1.  ]\n",
      " [ 0.    0.    0.05  0.5 ]\n",
      " [ 0.2   0.05  0.3   0.6 ]\n",
      " [ 0.    0.1   0.2   0.3 ]]\n"
     ]
    },
    {
     "data": {
      "text/plain": [
       "<matplotlib.image.AxesImage at 0x108dad390>"
      ]
     },
     "execution_count": 72,
     "metadata": {},
     "output_type": "execute_result"
    },
    {
     "data": {
      "image/png": "[encoded data removed]",
      "text/plain": [
       "<matplotlib.figure.Figure at 0x108ba2fd0>"
      ]
     },
     "metadata": {},
     "output_type": "display_data"
    }
   ],
   "source": [
    "%matplotlib inline\n",
    "\n",
    "from scipy.ndimage.interpolation import zoom\n",
    "import matplotlib.pyplot as plt\n",
    "\n",
    "src = np.array([0,0,0.1,1,0,0,0.05,0.5,0.2,0.05,0.3,0.6,0,0.1,0.2,0.3])\n",
    "src = src.reshape((4,4))\n",
    "print(src)\n",
    "plt.imshow(src, cmap='gray_r', interpolation='nearest')"
   ]
  },
  {
   "cell_type": "code",
   "execution_count": 81,
   "metadata": {
    "collapsed": false
   },
   "outputs": [
    {
     "data": {
      "text/plain": [
       "<matplotlib.image.AxesImage at 0x109b27850>"
      ]
     },
     "execution_count": 81,
     "metadata": {},
     "output_type": "execute_result"
    },
    {
     "data": {
      "image/png": "[encoded data removed]",
      "text/plain": [
       "<matplotlib.figure.Figure at 0x1099c6ad0>"
      ]
     },
     "metadata": {},
     "output_type": "display_data"
    }
   ],
   "source": [
    "out = zoom(src, (1.2, 1.2), order=1)\n",
    "plt.imshow(out, cmap='gray_r', interpolation='nearest')"
   ]
  },
  {
   "cell_type": "code",
   "execution_count": 87,
   "metadata": {
    "collapsed": false
   },
   "outputs": [
    {
     "data": {
      "text/plain": [
       "99.0"
      ]
     },
     "execution_count": 87,
     "metadata": {},
     "output_type": "execute_result"
    }
   ],
   "source": [
    "a = np.array([[10, 7, 4, 3], [3, 2, 1, 9], [8, 7, 8, 99]])\n",
    "np.percentile(a, 100)"
   ]
  },
  {
   "cell_type": "code",
   "execution_count": 86,
   "metadata": {
    "collapsed": false
   },
   "outputs": [
    {
     "data": {
      "text/plain": [
       "array([0, 1, 2, 3, 4, 5, 6, 7, 8, 9])"
      ]
     },
     "execution_count": 86,
     "metadata": {},
     "output_type": "execute_result"
    }
   ],
   "source": [
    "a = np.arange(10)\n",
    "np.clip(a, 1, 8)\n",
    "a"
   ]
  },
  {
   "cell_type": "code",
   "execution_count": 134,
   "metadata": {
    "collapsed": false
   },
   "outputs": [
    {
     "data": {
      "text/plain": [
       "array([[  0. ,  10. ,   0.1,   1. ],\n",
       "       [-10. ,   0. ,  10. ,   0.5],\n",
       "       [  0.2, -10. ,   0.3,  10. ],\n",
       "       [  0. ,   0.1, -10. ,   0.3]])"
      ]
     },
     "execution_count": 134,
     "metadata": {},
     "output_type": "execute_result"
    }
   ],
   "source": [
    "a = np.array([0,0,0.1,1,0,0,0.05,0.5,0.2,0.05,0.3,0.6,0,0.1,0.2,0.3]).reshape((4,4))\n",
    "idx = np.diag_indices(a.shape[0])\n",
    "\n",
    "a[((idx[0] - 1)[1:], (idx[1])[1:])] = 10\n",
    "a[((idx[0] + 1)[:-1], (idx[1])[:-1])] = -10\n",
    "\n",
    "a"
   ]
  },
  {
   "cell_type": "code",
   "execution_count": 126,
   "metadata": {
    "collapsed": false
   },
   "outputs": [
    {
     "data": {
      "text/plain": [
       "array([1, 2, 3, 4])"
      ]
     },
     "execution_count": 126,
     "metadata": {},
     "output_type": "execute_result"
    }
   ],
   "source": [
    "a = np.diag_indices(4)\n",
    "a[0] + 1"
   ]
  },
  {
   "cell_type": "code",
   "execution_count": 109,
   "metadata": {
    "collapsed": false
   },
   "outputs": [
    {
     "data": {
      "text/plain": [
       "[1]"
      ]
     },
     "execution_count": 109,
     "metadata": {},
     "output_type": "execute_result"
    }
   ],
   "source": [
    "range(1,2)"
   ]
  },
  {
   "cell_type": "code",
   "execution_count": 27,
   "metadata": {
    "collapsed": true
   },
   "outputs": [],
   "source": [
    "test = pd.DataFrame(\n",
    "    columns=['a', 'b', 'c', 'd'],\n",
    "    data=[\n",
    "        ['22', 1, 2, 0],\n",
    "        ['22', 1, 1, 0],\n",
    "        ['22', 1, 3, 0],\n",
    "        ['22', -1, 0, 0]\n",
    "    ]\n",
    ")"
   ]
  },
  {
   "cell_type": "code",
   "execution_count": 33,
   "metadata": {
    "collapsed": false
   },
   "outputs": [
    {
     "data": {
      "text/html": [
       "<div>\n",
       "<table border=\"1\" class=\"dataframe\">\n",
       "  <thead>\n",
       "    <tr style=\"text-align: right;\">\n",
       "      <th></th>\n",
       "      <th>a</th>\n",
       "      <th>b</th>\n",
       "      <th>c</th>\n",
       "      <th>d</th>\n",
       "    </tr>\n",
       "  </thead>\n",
       "  <tbody>\n",
       "    <tr>\n",
       "      <th>0</th>\n",
       "      <td>22</td>\n",
       "      <td>1</td>\n",
       "      <td>2</td>\n",
       "      <td>1</td>\n",
       "    </tr>\n",
       "    <tr>\n",
       "      <th>1</th>\n",
       "      <td>22</td>\n",
       "      <td>1</td>\n",
       "      <td>1</td>\n",
       "      <td>0</td>\n",
       "    </tr>\n",
       "    <tr>\n",
       "      <th>2</th>\n",
       "      <td>22</td>\n",
       "      <td>1</td>\n",
       "      <td>3</td>\n",
       "      <td>0</td>\n",
       "    </tr>\n",
       "    <tr>\n",
       "      <th>3</th>\n",
       "      <td>22</td>\n",
       "      <td>-1</td>\n",
       "      <td>0</td>\n",
       "      <td>1</td>\n",
       "    </tr>\n",
       "  </tbody>\n",
       "</table>\n",
       "</div>"
      ],
      "text/plain": [
       "    a  b  c  d\n",
       "0  22  1  2  1\n",
       "1  22  1  1  0\n",
       "2  22  1  3  0\n",
       "3  22 -1  0  1"
      ]
     },
     "execution_count": 33,
     "metadata": {},
     "output_type": "execute_result"
    }
   ],
   "source": [
    "test.loc[test['c'].eq(test['b'] + 1, axis='index'), 'd'] = 1\n",
    "test"
   ]
  },
  {
   "cell_type": "code",
   "execution_count": 25,
   "metadata": {
    "collapsed": false
   },
   "outputs": [
    {
     "data": {
      "text/plain": [
       "0    0\n",
       "1    0\n",
       "Name: d, dtype: int64"
      ]
     },
     "execution_count": 25,
     "metadata": {},
     "output_type": "execute_result"
    }
   ],
   "source": [
    "test[test['b'].gt(0) & test['c'].lt(3)]['d']"
   ]
  },
  {
   "cell_type": "code",
   "execution_count": 42,
   "metadata": {
    "collapsed": false
   },
   "outputs": [
    {
     "data": {
      "text/plain": [
       "3    1\n",
       "Name: d, dtype: int64"
      ]
     },
     "execution_count": 42,
     "metadata": {},
     "output_type": "execute_result"
    }
   ],
   "source": [
    "test.iloc[[test['b'].idxmin()]]['d']"
   ]
  },
  {
   "cell_type": "code",
   "execution_count": 4,
   "metadata": {
    "collapsed": false
   },
   "outputs": [
    {
     "ename": "ValueError",
     "evalue": "Invalid file name (Invalid file name)",
     "output_type": "error",
     "traceback": [
      "\u001b[0;31m---------------------------------------------------------------------------\u001b[0m",
      "\u001b[0;31mValueError\u001b[0m                                Traceback (most recent call last)",
      "\u001b[0;32m<ipython-input-4-4553978a5a27>\u001b[0m in \u001b[0;36m<module>\u001b[0;34m()\u001b[0m\n\u001b[1;32m      1\u001b[0m \u001b[0;32mimport\u001b[0m \u001b[0mcooler\u001b[0m \u001b[0;32mas\u001b[0m \u001b[0mc\u001b[0m\u001b[0;34m\u001b[0m\u001b[0m\n\u001b[0;32m----> 2\u001b[0;31m \u001b[0ma\u001b[0m \u001b[0;34m=\u001b[0m \u001b[0mc\u001b[0m\u001b[0;34m.\u001b[0m\u001b[0mCooler\u001b[0m\u001b[0;34m(\u001b[0m\u001b[0;34m''\u001b[0m\u001b[0;34m)\u001b[0m\u001b[0;34m\u001b[0m\u001b[0m\n\u001b[0m\u001b[1;32m      3\u001b[0m \u001b[0mtype\u001b[0m\u001b[0;34m(\u001b[0m\u001b[0ma\u001b[0m\u001b[0;34m)\u001b[0m\u001b[0;34m\u001b[0m\u001b[0m\n",
      "\u001b[0;32m/Users/Fritz/Virtualenvs/hgs/src/cooler/cooler/api.py\u001b[0m in \u001b[0;36m__init__\u001b[0;34m(self, store, root, **kwargs)\u001b[0m\n\u001b[1;32m     74\u001b[0m             \u001b[0mself\u001b[0m\u001b[0;34m.\u001b[0m\u001b[0mopen_kws\u001b[0m \u001b[0;34m=\u001b[0m \u001b[0;34m{\u001b[0m\u001b[0;34m}\u001b[0m\u001b[0;34m\u001b[0m\u001b[0m\n\u001b[1;32m     75\u001b[0m \u001b[0;34m\u001b[0m\u001b[0m\n\u001b[0;32m---> 76\u001b[0;31m         \u001b[0;32mwith\u001b[0m \u001b[0mopen_hdf5\u001b[0m\u001b[0;34m(\u001b[0m\u001b[0mself\u001b[0m\u001b[0;34m.\u001b[0m\u001b[0mstore\u001b[0m\u001b[0;34m,\u001b[0m \u001b[0;34m**\u001b[0m\u001b[0mself\u001b[0m\u001b[0;34m.\u001b[0m\u001b[0mopen_kws\u001b[0m\u001b[0;34m)\u001b[0m \u001b[0;32mas\u001b[0m \u001b[0mh5\u001b[0m\u001b[0;34m:\u001b[0m\u001b[0;34m\u001b[0m\u001b[0m\n\u001b[0m\u001b[1;32m     77\u001b[0m             \u001b[0mgrp\u001b[0m \u001b[0;34m=\u001b[0m \u001b[0mh5\u001b[0m\u001b[0;34m[\u001b[0m\u001b[0mself\u001b[0m\u001b[0;34m.\u001b[0m\u001b[0mroot\u001b[0m\u001b[0;34m]\u001b[0m\u001b[0;34m\u001b[0m\u001b[0m\n\u001b[1;32m     78\u001b[0m             \u001b[0m_ct\u001b[0m \u001b[0;34m=\u001b[0m \u001b[0mchroms\u001b[0m\u001b[0;34m(\u001b[0m\u001b[0mgrp\u001b[0m\u001b[0;34m)\u001b[0m\u001b[0;34m\u001b[0m\u001b[0m\n",
      "\u001b[0;32m/usr/local/Cellar/python/2.7.12_2/Frameworks/Python.framework/Versions/2.7/lib/python2.7/contextlib.pyc\u001b[0m in \u001b[0;36m__enter__\u001b[0;34m(self)\u001b[0m\n\u001b[1;32m     15\u001b[0m     \u001b[0;32mdef\u001b[0m \u001b[0m__enter__\u001b[0m\u001b[0;34m(\u001b[0m\u001b[0mself\u001b[0m\u001b[0;34m)\u001b[0m\u001b[0;34m:\u001b[0m\u001b[0;34m\u001b[0m\u001b[0m\n\u001b[1;32m     16\u001b[0m         \u001b[0;32mtry\u001b[0m\u001b[0;34m:\u001b[0m\u001b[0;34m\u001b[0m\u001b[0m\n\u001b[0;32m---> 17\u001b[0;31m             \u001b[0;32mreturn\u001b[0m \u001b[0mself\u001b[0m\u001b[0;34m.\u001b[0m\u001b[0mgen\u001b[0m\u001b[0;34m.\u001b[0m\u001b[0mnext\u001b[0m\u001b[0;34m(\u001b[0m\u001b[0;34m)\u001b[0m\u001b[0;34m\u001b[0m\u001b[0m\n\u001b[0m\u001b[1;32m     18\u001b[0m         \u001b[0;32mexcept\u001b[0m \u001b[0mStopIteration\u001b[0m\u001b[0;34m:\u001b[0m\u001b[0;34m\u001b[0m\u001b[0m\n\u001b[1;32m     19\u001b[0m             \u001b[0;32mraise\u001b[0m \u001b[0mRuntimeError\u001b[0m\u001b[0;34m(\u001b[0m\u001b[0;34m\"generator didn't yield\"\u001b[0m\u001b[0;34m)\u001b[0m\u001b[0;34m\u001b[0m\u001b[0m\n",
      "\u001b[0;32m/Users/Fritz/Virtualenvs/hgs/src/cooler/cooler/util.py\u001b[0m in \u001b[0;36mopen_hdf5\u001b[0;34m(fp, mode, *args, **kwargs)\u001b[0m\n\u001b[1;32m    507\u001b[0m     \u001b[0;32mif\u001b[0m \u001b[0misinstance\u001b[0m\u001b[0;34m(\u001b[0m\u001b[0mfp\u001b[0m\u001b[0;34m,\u001b[0m \u001b[0msix\u001b[0m\u001b[0;34m.\u001b[0m\u001b[0mstring_types\u001b[0m\u001b[0;34m)\u001b[0m\u001b[0;34m:\u001b[0m\u001b[0;34m\u001b[0m\u001b[0m\n\u001b[1;32m    508\u001b[0m         \u001b[0mown_fh\u001b[0m \u001b[0;34m=\u001b[0m \u001b[0mTrue\u001b[0m\u001b[0;34m\u001b[0m\u001b[0m\n\u001b[0;32m--> 509\u001b[0;31m         \u001b[0mfh\u001b[0m \u001b[0;34m=\u001b[0m \u001b[0mh5py\u001b[0m\u001b[0;34m.\u001b[0m\u001b[0mFile\u001b[0m\u001b[0;34m(\u001b[0m\u001b[0mfp\u001b[0m\u001b[0;34m,\u001b[0m \u001b[0mmode\u001b[0m\u001b[0;34m,\u001b[0m \u001b[0;34m*\u001b[0m\u001b[0margs\u001b[0m\u001b[0;34m,\u001b[0m \u001b[0;34m**\u001b[0m\u001b[0mkwargs\u001b[0m\u001b[0;34m)\u001b[0m\u001b[0;34m\u001b[0m\u001b[0m\n\u001b[0m\u001b[1;32m    510\u001b[0m     \u001b[0;32melse\u001b[0m\u001b[0;34m:\u001b[0m\u001b[0;34m\u001b[0m\u001b[0m\n\u001b[1;32m    511\u001b[0m         \u001b[0mown_fh\u001b[0m \u001b[0;34m=\u001b[0m \u001b[0mFalse\u001b[0m\u001b[0;34m\u001b[0m\u001b[0m\n",
      "\u001b[0;32m/Users/Fritz/Virtualenvs/hgs/lib/python2.7/site-packages/h5py/_hl/files.pyc\u001b[0m in \u001b[0;36m__init__\u001b[0;34m(self, name, mode, driver, libver, userblock_size, swmr, **kwds)\u001b[0m\n\u001b[1;32m    270\u001b[0m \u001b[0;34m\u001b[0m\u001b[0m\n\u001b[1;32m    271\u001b[0m                 \u001b[0mfapl\u001b[0m \u001b[0;34m=\u001b[0m \u001b[0mmake_fapl\u001b[0m\u001b[0;34m(\u001b[0m\u001b[0mdriver\u001b[0m\u001b[0;34m,\u001b[0m \u001b[0mlibver\u001b[0m\u001b[0;34m,\u001b[0m \u001b[0;34m**\u001b[0m\u001b[0mkwds\u001b[0m\u001b[0;34m)\u001b[0m\u001b[0;34m\u001b[0m\u001b[0m\n\u001b[0;32m--> 272\u001b[0;31m                 \u001b[0mfid\u001b[0m \u001b[0;34m=\u001b[0m \u001b[0mmake_fid\u001b[0m\u001b[0;34m(\u001b[0m\u001b[0mname\u001b[0m\u001b[0;34m,\u001b[0m \u001b[0mmode\u001b[0m\u001b[0;34m,\u001b[0m \u001b[0muserblock_size\u001b[0m\u001b[0;34m,\u001b[0m \u001b[0mfapl\u001b[0m\u001b[0;34m,\u001b[0m \u001b[0mswmr\u001b[0m\u001b[0;34m=\u001b[0m\u001b[0mswmr\u001b[0m\u001b[0;34m)\u001b[0m\u001b[0;34m\u001b[0m\u001b[0m\n\u001b[0m\u001b[1;32m    273\u001b[0m \u001b[0;34m\u001b[0m\u001b[0m\n\u001b[1;32m    274\u001b[0m                 \u001b[0;32mif\u001b[0m \u001b[0mswmr_support\u001b[0m\u001b[0;34m:\u001b[0m\u001b[0;34m\u001b[0m\u001b[0m\n",
      "\u001b[0;32m/Users/Fritz/Virtualenvs/hgs/lib/python2.7/site-packages/h5py/_hl/files.pyc\u001b[0m in \u001b[0;36mmake_fid\u001b[0;34m(name, mode, userblock_size, fapl, fcpl, swmr)\u001b[0m\n\u001b[1;32m     90\u001b[0m         \u001b[0;32mif\u001b[0m \u001b[0mswmr\u001b[0m \u001b[0;32mand\u001b[0m \u001b[0mswmr_support\u001b[0m\u001b[0;34m:\u001b[0m\u001b[0;34m\u001b[0m\u001b[0m\n\u001b[1;32m     91\u001b[0m             \u001b[0mflags\u001b[0m \u001b[0;34m|=\u001b[0m \u001b[0mh5f\u001b[0m\u001b[0;34m.\u001b[0m\u001b[0mACC_SWMR_READ\u001b[0m\u001b[0;34m\u001b[0m\u001b[0m\n\u001b[0;32m---> 92\u001b[0;31m         \u001b[0mfid\u001b[0m \u001b[0;34m=\u001b[0m \u001b[0mh5f\u001b[0m\u001b[0;34m.\u001b[0m\u001b[0mopen\u001b[0m\u001b[0;34m(\u001b[0m\u001b[0mname\u001b[0m\u001b[0;34m,\u001b[0m \u001b[0mflags\u001b[0m\u001b[0;34m,\u001b[0m \u001b[0mfapl\u001b[0m\u001b[0;34m=\u001b[0m\u001b[0mfapl\u001b[0m\u001b[0;34m)\u001b[0m\u001b[0;34m\u001b[0m\u001b[0m\n\u001b[0m\u001b[1;32m     93\u001b[0m     \u001b[0;32melif\u001b[0m \u001b[0mmode\u001b[0m \u001b[0;34m==\u001b[0m \u001b[0;34m'r+'\u001b[0m\u001b[0;34m:\u001b[0m\u001b[0;34m\u001b[0m\u001b[0m\n\u001b[1;32m     94\u001b[0m         \u001b[0mfid\u001b[0m \u001b[0;34m=\u001b[0m \u001b[0mh5f\u001b[0m\u001b[0;34m.\u001b[0m\u001b[0mopen\u001b[0m\u001b[0;34m(\u001b[0m\u001b[0mname\u001b[0m\u001b[0;34m,\u001b[0m \u001b[0mh5f\u001b[0m\u001b[0;34m.\u001b[0m\u001b[0mACC_RDWR\u001b[0m\u001b[0;34m,\u001b[0m \u001b[0mfapl\u001b[0m\u001b[0;34m=\u001b[0m\u001b[0mfapl\u001b[0m\u001b[0;34m)\u001b[0m\u001b[0;34m\u001b[0m\u001b[0m\n",
      "\u001b[0;32mh5py/_objects.pyx\u001b[0m in \u001b[0;36mh5py._objects.with_phil.wrapper (/Users/travis/build/MacPython/h5py-wheels/h5py/h5py/_objects.c:2687)\u001b[0;34m()\u001b[0m\n",
      "\u001b[0;32mh5py/_objects.pyx\u001b[0m in \u001b[0;36mh5py._objects.with_phil.wrapper (/Users/travis/build/MacPython/h5py-wheels/h5py/h5py/_objects.c:2645)\u001b[0;34m()\u001b[0m\n",
      "\u001b[0;32mh5py/h5f.pyx\u001b[0m in \u001b[0;36mh5py.h5f.open (/Users/travis/build/MacPython/h5py-wheels/h5py/h5py/h5f.c:1933)\u001b[0;34m()\u001b[0m\n",
      "\u001b[0;31mValueError\u001b[0m: Invalid file name (Invalid file name)"
     ]
    }
   ],
   "source": [
    "import cooler as c\n",
    "a = c.Cooler('')\n",
    "type(a)"
   ]
  },
  {
   "cell_type": "code",
   "execution_count": 16,
   "metadata": {
    "collapsed": false
   },
   "outputs": [
    {
     "data": {
      "text/plain": [
       "1"
      ]
     },
     "execution_count": 16,
     "metadata": {},
     "output_type": "execute_result"
    }
   ],
   "source": [
    "a = np.array([0, 1, 2, -1, 4, -2])\n",
    "b = np.array([-1, 1, 2, 0, 4, 0])\n",
    "x = np.min(np.where(a == b))\n",
    "x"
   ]
  },
  {
   "cell_type": "code",
   "execution_count": 17,
   "metadata": {
    "collapsed": false
   },
   "outputs": [
    {
     "data": {
      "text/plain": [
       "array([ 0,  2,  4, -2,  8, -4])"
      ]
     },
     "execution_count": 17,
     "metadata": {},
     "output_type": "execute_result"
    }
   ],
   "source": [
    "np.multiply(a, 2)"
   ]
  },
  {
   "cell_type": "code",
   "execution_count": 20,
   "metadata": {
    "collapsed": false
   },
   "outputs": [
    {
     "ename": "TypeError",
     "evalue": "can only concatenate tuple (not \"int\") to tuple",
     "output_type": "error",
     "traceback": [
      "\u001b[0;31m---------------------------------------------------------------------------\u001b[0m",
      "\u001b[0;31mTypeError\u001b[0m                                 Traceback (most recent call last)",
      "\u001b[0;32m<ipython-input-20-5128d334e33c>\u001b[0m in \u001b[0;36m<module>\u001b[0;34m()\u001b[0m\n\u001b[0;32m----> 1\u001b[0;31m \u001b[0mnp\u001b[0m\u001b[0;34m.\u001b[0m\u001b[0mdiag_indices\u001b[0m\u001b[0;34m(\u001b[0m\u001b[0;36m60\u001b[0m\u001b[0;34m)\u001b[0m \u001b[0;34m+\u001b[0m \u001b[0;36m1\u001b[0m\u001b[0;34m\u001b[0m\u001b[0m\n\u001b[0m",
      "\u001b[0;31mTypeError\u001b[0m: can only concatenate tuple (not \"int\") to tuple"
     ]
    }
   ],
   "source": [
    "np.diag_indices(60) + 1"
   ]
  },
  {
   "cell_type": "code",
   "execution_count": 21,
   "metadata": {
    "collapsed": false
   },
   "outputs": [
    {
     "data": {
      "text/plain": [
       "10"
      ]
     },
     "execution_count": 21,
     "metadata": {},
     "output_type": "execute_result"
    }
   ],
   "source": [
    "np.sum(np.array([[1, 2],[3, 4]]))"
   ]
  },
  {
   "cell_type": "code",
   "execution_count": 4,
   "metadata": {
    "collapsed": false
   },
   "outputs": [
    {
     "ename": "KeyError",
     "evalue": "'hole'",
     "output_type": "error",
     "traceback": [
      "\u001b[0;31m---------------------------------------------------------------------------\u001b[0m",
      "\u001b[0;31mKeyError\u001b[0m                                  Traceback (most recent call last)",
      "\u001b[0;32m<ipython-input-4-d2327c952a7a>\u001b[0m in \u001b[0;36m<module>\u001b[0;34m()\u001b[0m\n\u001b[1;32m      2\u001b[0m     \u001b[0;34m'wurst'\u001b[0m\u001b[0;34m:\u001b[0m \u001b[0;34m'geil'\u001b[0m\u001b[0;34m\u001b[0m\u001b[0m\n\u001b[1;32m      3\u001b[0m }\n\u001b[0;32m----> 4\u001b[0;31m \u001b[0ma\u001b[0m\u001b[0;34m[\u001b[0m\u001b[0;34m'hole'\u001b[0m\u001b[0;34m]\u001b[0m\u001b[0;34m\u001b[0m\u001b[0m\n\u001b[0m",
      "\u001b[0;31mKeyError\u001b[0m: 'hole'"
     ]
    }
   ],
   "source": [
    "a = {\n",
    "    'wurst': 'geil'\n",
    "}\n",
    "a['hole']"
   ]
  },
  {
   "cell_type": "code",
   "execution_count": null,
   "metadata": {
    "collapsed": true
   },
   "outputs": [],
   "source": []
  }
 ],
 "metadata": {
  "kernelspec": {
   "display_name": "Python 2",
   "language": "python",
   "name": "python2"
  },
  "language_info": {
   "codemirror_mode": {
    "name": "ipython",
    "version": 2
   },
   "file_extension": ".py",
   "mimetype": "text/x-python",
   "name": "python",
   "nbconvert_exporter": "python",
   "pygments_lexer": "ipython2",
   "version": "2.7.12"
  }
 },
 "nbformat": 4,
 "nbformat_minor": 2
}
