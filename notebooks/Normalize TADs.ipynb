{
 "cells": [
  {
   "cell_type": "code",
   "execution_count": 65,
   "metadata": {
    "collapsed": true
   },
   "outputs": [],
   "source": [
    "from __future__ import absolute_import, division, print_function, unicode_literals\n",
    "\n",
    "import numpy as np\n",
    "import pandas as pd\n",
    "import h5py\n",
    "import time\n",
    "import cooler\n",
    "\n",
    "from scipy.ndimage.interpolation import zoom\n",
    "\n",
    "from matplotlib.pyplot import imshow\n",
    "import matplotlib.pyplot as plt\n",
    "%matplotlib inline\n",
    "\n",
    "# from mirnylib.numutils import zoomArray\n",
    "\n",
    "cooler_path = '/Users/Fritz/Research/4DN/Data/hg19/Rao2014-GM12878-MboI-allreps-filtered.5kb.cool'\n",
    "\n",
    "tads_chr22_10 = [\n",
    "  ('chr22', 19015000, 19485000),\n",
    "  ('chr22', 20130000, 20320000),\n",
    "  ('chr22', 35705000, 36015000),\n",
    "  ('chr22', 46385000, 46730000),\n",
    "  ('chr22', 22800000, 22920000),\n",
    "  ('chr22', 31025000, 31155000),\n",
    "  ('chr22', 38795000, 38980000),\n",
    "  ('chr22', 42085000, 42210000),\n",
    "  ('chr22', 36535000, 36685000),\n",
    "  ('chr22', 42695000, 42820000)\n",
    "]"
   ]
  },
  {
   "cell_type": "code",
   "execution_count": 124,
   "metadata": {},
   "outputs": [],
   "source": [
    "# Code by Hugo Brandao (hbrandao@g.harvard.edu) and Maxim Imakaev\n",
    "# Adjusted by Fritz Lekschas\n",
    "\n",
    "def averageDomains(\n",
    "    domains,\n",
    "    filename,\n",
    "    rescaledDomainSize=30,\n",
    "    minSize=100000,\n",
    "    maxSize=10000000\n",
    "):\n",
    "    # minSize and maxSize limit what \"kinds\" of domains we're looking for based\n",
    "    # on size exclusion\n",
    "    try:\n",
    "        c = cooler.Cooler(filename)\n",
    "    except IOError:\n",
    "        print(\"Could not open cooler file at {}\".format(filename))\n",
    "        return []\n",
    "    \n",
    "    resolution = c.info['bin-size']\n",
    "    maps = []\n",
    "    \n",
    "    last_chrom = None\n",
    "\n",
    "    for index, domain in enumerate(domains):\n",
    "        chrom = domain[0]\n",
    "        st = domain[1]\n",
    "        nd = domain[2]\n",
    "        \n",
    "        futureMap = np.zeros(\n",
    "            (rescaledDomainSize, rescaledDomainSize), float\n",
    "        )\n",
    "\n",
    "        if not chrom == last_chrom:\n",
    "            data = c.matrix(balance=False).fetch(chrom)\n",
    "\n",
    "        # exclude by size\n",
    "        if ((nd - st) < minSize) or ((nd - st) > maxSize):\n",
    "            print('Exclude domain #{} because of size constraints'.format(index))\n",
    "            continue\n",
    "\n",
    "        # exclude if too close together (sort of redundant)\n",
    "        if abs(st - nd) < 10 * resolution:\n",
    "            print('Exclude domain #{} because start and end is too close'.format(index))\n",
    "            continue\n",
    "\n",
    "        stBin = int(np.rint(float(st) / resolution))\n",
    "        endBin = int(np.rint(float(nd) / resolution))\n",
    "        mylen = endBin - stBin + 1\n",
    "        \n",
    "        print('#{} s:{} e:{}'.format(index, stBin, endBin))\n",
    "\n",
    "        if stBin - mylen < 0:\n",
    "            print('Exclude domain #{} because too few bins'.format(index))\n",
    "            continue\n",
    "\n",
    "        if endBin + mylen >= len(data):\n",
    "            print('Exclude domain #{} because it\\'s larger than the data'.format(index))\n",
    "            continue\n",
    "\n",
    "        singleMap = 1. * (\n",
    "            data[\n",
    "                stBin - mylen:endBin + mylen + 1,\n",
    "                stBin - mylen:endBin + mylen + 1\n",
    "            ]\n",
    "        )\n",
    "\n",
    "#         assert len(singleMap) % 3 == 0\n",
    "\n",
    "        futureMap = futureMap + zoomArray(\n",
    "            singleMap, futureMap.shape\n",
    "        ).copy()\n",
    "            \n",
    "        maps.append(futureMap)\n",
    "        \n",
    "        last_chrom = chrom\n",
    "            \n",
    "    return maps\n",
    "\n",
    "\n",
    "# ZOOM ARRAY from the mirnylib.numutils library #############\n",
    "# URL: https://bitbucket.org/mirnylab/mirnylib\n",
    "\n",
    "def zoomArray(inArray, finalShape, sameSum=False,\n",
    "              zoomFunction=zoom, **zoomKwargs):\n",
    "    \"\"\"\n",
    "\n",
    "    Normally, one can use scipy.ndimage.zoom to do array/image rescaling.\n",
    "    However, scipy.ndimage.zoom does not coarsegrain images well. It basically\n",
    "    takes nearest neighbor, rather than averaging all the pixels, when\n",
    "    coarsegraining arrays. This increases noise. Photoshop doesn't do that, and\n",
    "    performs some smart interpolation-averaging instead.\n",
    "\n",
    "    If you were to coarsegrain an array by an integer factor, e.g. 100x100 ->\n",
    "    25x25, you just need to do block-averaging, that's easy, and it reduces\n",
    "    noise. But what if you want to coarsegrain 100x100 -> 30x30?\n",
    "\n",
    "    Then my friend you are in trouble. But this function will help you. This\n",
    "    function will blow up your 100x100 array to a 120x120 array using\n",
    "    scipy.ndimage zoom Then it will coarsegrain a 120x120 array by\n",
    "    block-averaging in 4x4 chunks.\n",
    "\n",
    "    It will do it independently for each dimension, so if you want a 100x100\n",
    "    array to become a 60x120 array, it will blow up the first and the second\n",
    "    dimension to 120, and then block-average only the first dimension.\n",
    "\n",
    "    Parameters\n",
    "    ----------\n",
    "\n",
    "    inArray: n-dimensional numpy array (1D also works)\n",
    "    finalShape: resulting shape of an array\n",
    "    sameSum: bool, preserve a sum of the array, rather than values.\n",
    "             by default, values are preserved\n",
    "    zoomFunction: by default, scipy.ndimage.zoom. You can plug your own.\n",
    "    zoomKwargs:  a dict of options to pass to zoomFunction.\n",
    "    \"\"\"\n",
    "    inArray = np.asarray(inArray, dtype=np.double)\n",
    "    inShape = inArray.shape\n",
    "    assert len(inShape) == len(finalShape)\n",
    "    mults = []  # multipliers for the final coarsegraining\n",
    "    for i in range(len(inShape)):\n",
    "        if finalShape[i] < inShape[i]:\n",
    "            mults.append(int(np.ceil(inShape[i] / finalShape[i])))\n",
    "        else:\n",
    "            mults.append(1)\n",
    "    # shape to which to blow up\n",
    "    tempShape = tuple([i * j for i, j in zip(finalShape, mults)])\n",
    "\n",
    "    # stupid zoom doesn't accept the final shape. Carefully crafting the\n",
    "    # multipliers to make sure that it will work.\n",
    "    zoomMultipliers = np.array(tempShape) / np.array(inShape) + 0.0000001\n",
    "    assert zoomMultipliers.min() >= 1\n",
    "\n",
    "    # applying scipy.ndimage.zoom\n",
    "    rescaled = zoomFunction(inArray, zoomMultipliers, **zoomKwargs)\n",
    "\n",
    "    for ind, mult in enumerate(mults):\n",
    "        if mult != 1:\n",
    "            sh = list(rescaled.shape)\n",
    "            assert sh[ind] % mult == 0\n",
    "            newshape = sh[:ind] + [sh[ind] // mult, mult] + sh[ind + 1:]\n",
    "            rescaled.shape = newshape\n",
    "            rescaled = np.mean(rescaled, axis=ind + 1)\n",
    "    assert rescaled.shape == finalShape\n",
    "\n",
    "    if sameSum:\n",
    "        extraSize = np.prod(finalShape) / np.prod(inShape)\n",
    "        rescaled /= extraSize\n",
    "    return rescaled"
   ]
  },
  {
   "cell_type": "code",
   "execution_count": 129,
   "metadata": {},
   "outputs": [
    {
     "name": "stdout",
     "output_type": "stream",
     "text": [
      "#0 s:3803 e:3897\n",
      "#1 s:4026 e:4064\n",
      "#2 s:7141 e:7203\n",
      "#3 s:9277 e:9346\n",
      "#4 s:4560 e:4584\n",
      "#5 s:6205 e:6231\n",
      "#6 s:7759 e:7796\n",
      "#7 s:8417 e:8442\n",
      "#8 s:7307 e:7337\n",
      "#9 s:8539 e:8564\n"
     ]
    },
    {
     "data": {
      "text/plain": [
       "10"
      ]
     },
     "execution_count": 129,
     "metadata": {},
     "output_type": "execute_result"
    }
   ],
   "source": [
    "normalized_tads = averageDomains(tads_chr22_10, cooler_path, 64)\n",
    "len(normalized_tads)"
   ]
  },
  {
   "cell_type": "code",
   "execution_count": 132,
   "metadata": {},
   "outputs": [
    {
     "data": {
      "text/plain": [
       "<matplotlib.image.AxesImage at 0x117a6a9d0>"
      ]
     },
     "execution_count": 132,
     "metadata": {},
     "output_type": "execute_result"
    },
    {
     "data": {
      "image/png": "[encoded data removed]",
      "text/plain": [
       "<matplotlib.figure.Figure at 0x117823650>"
      ]
     },
     "metadata": {},
     "output_type": "display_data"
    }
   ],
   "source": [
    "imshow(normalized_tads[1], 'gray_r', interpolation='none')"
   ]
  },
  {
   "cell_type": "code",
   "execution_count": 79,
   "metadata": {},
   "outputs": [
    {
     "data": {
      "text/plain": [
       "<matplotlib.image.AxesImage at 0x110be2b50>"
      ]
     },
     "execution_count": 79,
     "metadata": {},
     "output_type": "execute_result"
    },
    {
     "data": {
      "image/png": "[encoded data removed]",
      "text/plain": [
       "<matplotlib.figure.Figure at 0x10d5adf90>"
      ]
     },
     "metadata": {},
     "output_type": "display_data"
    }
   ],
   "source": [
    "imshow(normalized_tads[9], 'gray_r', interpolation='none')"
   ]
  },
  {
   "cell_type": "code",
   "execution_count": 109,
   "metadata": {},
   "outputs": [
    {
     "data": {
      "text/plain": [
       "<matplotlib.image.AxesImage at 0x110d379d0>"
      ]
     },
     "execution_count": 109,
     "metadata": {},
     "output_type": "execute_result"
    },
    {
     "data": {
      "image/png": "[encoded data removed]",
      "text/plain": [
       "<matplotlib.figure.Figure at 0x10d5d9310>"
      ]
     },
     "metadata": {},
     "output_type": "display_data"
    }
   ],
   "source": [
    "imshow(normalized_tads[6], 'gray_r', interpolation='none')"
   ]
  },
  {
   "cell_type": "code",
   "execution_count": 123,
   "metadata": {},
   "outputs": [
    {
     "data": {
      "text/plain": [
       "array([[12, 18,  6,  3],\n",
       "       [ 4,  3,  1,  2],\n",
       "       [ 5,  3,  0,  2],\n",
       "       [15,  8,  9,  6]])"
      ]
     },
     "execution_count": 123,
     "metadata": {},
     "output_type": "execute_result"
    }
   ],
   "source": [
    "a = [\n",
    "     [12, 18, 6, 3],\n",
    "     [ 4,  3, 1, 2],\n",
    "     [ 5,  3, 0, 2],\n",
    "     [15,  8, 9, 6]\n",
    "]\n",
    "b = np.array(a)\n",
    "b[0:4, 0:4]"
   ]
  },
  {
   "cell_type": "code",
   "execution_count": 107,
   "metadata": {},
   "outputs": [
    {
     "data": {
      "text/plain": [
       "True"
      ]
     },
     "execution_count": 107,
     "metadata": {},
     "output_type": "execute_result"
    }
   ],
   "source": [
    "a = np.array([[u'22', 17395000, 17400000, u'22', 17535000, 17540000, 0]])\n",
    "np.all(a[0:,0] == a[0:,3])"
   ]
  },
  {
   "cell_type": "code",
   "execution_count": 119,
   "metadata": {},
   "outputs": [
    {
     "data": {
      "text/plain": [
       "array([0, 2, 4])"
      ]
     },
     "execution_count": 119,
     "metadata": {},
     "output_type": "execute_result"
    }
   ],
   "source": [
    "a = np.array([0,2,4,6,8,10])\n",
    "x = np.where(a >= 0)\n",
    "x = np.where(a[x] < a.shape[0])\n",
    "a[y]"
   ]
  },
  {
   "cell_type": "code",
   "execution_count": 136,
   "metadata": {},
   "outputs": [
    {
     "data": {
      "text/plain": [
       "array([[-1., -1.],\n",
       "       [-1., -1.]])"
      ]
     },
     "execution_count": 136,
     "metadata": {},
     "output_type": "execute_result"
    }
   ],
   "source": [
    "a = np.zeros((2,2), float)\n",
    "a.fill(-1.0)\n",
    "b = a.copy()\n",
    "b"
   ]
  },
  {
   "cell_type": "code",
   "execution_count": null,
   "metadata": {
    "collapsed": true
   },
   "outputs": [],
   "source": []
  }
 ],
 "metadata": {
  "kernelspec": {
   "display_name": "Python 3",
   "language": "python",
   "name": "python3"
  },
  "language_info": {
   "codemirror_mode": {
    "name": "ipython",
    "version": 3
   },
   "file_extension": ".py",
   "mimetype": "text/x-python",
   "name": "python",
   "nbconvert_exporter": "python",
   "pygments_lexer": "ipython3",
   "version": "3.5.2"
  }
 },
 "nbformat": 4,
 "nbformat_minor": 2
}
