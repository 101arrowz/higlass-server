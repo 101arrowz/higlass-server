{
 "cells": [
  {
   "cell_type": "code",
   "execution_count": 21,
   "metadata": {
    "collapsed": false
   },
   "outputs": [
    {
     "data": {
      "text/plain": [
       "'\\nIn order to create a HiPiler configuration we need 3 things:\\n\\n1. A list of 2D features, i.e., genomic loci (BED, BEDPE, etc.)\\n2. The data set UUID of the Hi-C map we want to explore\\n3. A HiPiler compatible HiGlass configuration\\n\\nWe will go over every step now.\\n'"
      ]
     },
     "execution_count": 21,
     "metadata": {},
     "output_type": "execute_result"
    }
   ],
   "source": [
    "import json\n",
    "import pybedtools\n",
    "import pandas\n",
    "\n",
    "\"\"\"\n",
    "In order to create a HiPiler configuration we need 4 things:\n",
    "\n",
    "1. A list of 2D features, i.e., genomic loci (BED, BEDPE, etc.)\n",
    "2. Configure the snippets\n",
    "3. The data set UUID of the Hi-C map we want to explore\n",
    "4. A HiPiler compatible HiGlass configuration\n",
    "\n",
    "We will go over every step now.\n",
    "\"\"\""
   ]
  },
  {
   "cell_type": "code",
   "execution_count": 41,
   "metadata": {
    "collapsed": false
   },
   "outputs": [],
   "source": [
    "# Utility methods we are going to use\n",
    "\n",
    "COL_NAMES_BED = [\n",
    "    'chrom1',\n",
    "    'start1',\n",
    "    'end1',\n",
    "    '_name',\n",
    "    'score',\n",
    "    'strand1'\n",
    "]\n",
    "\n",
    "COL_NAMES_BEDPE = [\n",
    "    'chrom1',\n",
    "    'start1',\n",
    "    'end1',\n",
    "    'chrom2',\n",
    "    'start2',\n",
    "    'end2',\n",
    "    '_name',\n",
    "    'score',\n",
    "    'strand1',\n",
    "    'strand2'\n",
    "]\n",
    "\n",
    "def df_to_json(df):\n",
    "    \"\"\"Convert Pandas DataFrame into HiPiler compatible JSON\n",
    "    \"\"\"\n",
    "    return json.dumps([list(df.columns)] + df.values.tolist())\n",
    "\n",
    "def bed_to_df(bed, *args, **kwargs):\n",
    "    \"\"\"Convert BED into Pandas DataFrame\n",
    "    \"\"\"\n",
    "    # Complain if BAM or if not a file\n",
    "    if bed._isbam:\n",
    "        raise ValueError(\"BAM not supported for converting to DataFrame\")\n",
    "    if not isinstance(bed.fn, basestring):\n",
    "        raise ValueError(\"use .saveas() to make sure bed.fn is a file\")\n",
    "\n",
    "    # Otherwise we're good:\n",
    "    return pandas.read_table(bed.fn, *args, **kwargs)\n",
    "\n",
    "def bed_to_hipiler(bed, ds, zoom):\n",
    "    \"\"\"Convert BED into HiPiler compatible JSON\n",
    "    \"\"\"\n",
    "    \n",
    "    df = bed_to_df(bed, names=COL_NAMES_BED)\n",
    "    \n",
    "    # Copy columns because HiPiler requires 2-dimensional information\n",
    "    df['chrom2'] = df['chrom1']\n",
    "    df['start2'] = df['start1']\n",
    "    df['end2'] = df['end1']\n",
    "    df['strand2'] = df['strand1']\n",
    "    \n",
    "    # Add the data set UUID from HiGlass server\n",
    "    df['dataset'] = ds\n",
    "    \n",
    "    # Finally add the zoom-out level\n",
    "    df['zoomoutlevel'] = zoom\n",
    "    \n",
    "    return df_to_json(df)\n",
    "\n",
    "def bedpe_to_hipiler(bedpe, ds, zoom, extra_meas=[], extra_cats=[]):\n",
    "    \"\"\"Convert BED into HiPiler compatible JSON\n",
    "    \"\"\"\n",
    "    \n",
    "    names = COL_NAMES_BEDPE + extra_meas + map(lambda cat: '_' + cat, extra_cats)\n",
    "    \n",
    "    df = bed_to_df(bedpe, names=names)\n",
    "    \n",
    "    # Add the data set UUID from HiGlass server\n",
    "    df['dataset'] = ds\n",
    "    \n",
    "    # Finally add the zoom-out level\n",
    "    df['zoomoutlevel'] = zoom\n",
    "    \n",
    "    return df_to_json(df)\n",
    "\n",
    "def df_to_hipiler(df):\n",
    "    required_columns = ['chrom1', 'start1', 'end1', '']\n",
    "    \n",
    "    df[['A', 'B']]\n",
    "    \n",
    "    return df_to_json()"
   ]
  },
  {
   "cell_type": "code",
   "execution_count": 43,
   "metadata": {
    "collapsed": false
   },
   "outputs": [
    {
     "data": {
      "text/html": [
       "<div>\n",
       "<table border=\"1\" class=\"dataframe\">\n",
       "  <thead>\n",
       "    <tr style=\"text-align: right;\">\n",
       "      <th></th>\n",
       "      <th>chrom1</th>\n",
       "      <th>start1</th>\n",
       "      <th>end1</th>\n",
       "      <th>chrom2</th>\n",
       "      <th>start2</th>\n",
       "      <th>end2</th>\n",
       "      <th>_name</th>\n",
       "      <th>score</th>\n",
       "      <th>strand1</th>\n",
       "      <th>strand2</th>\n",
       "    </tr>\n",
       "  </thead>\n",
       "  <tbody>\n",
       "    <tr>\n",
       "      <th>0</th>\n",
       "      <td>chr1</td>\n",
       "      <td>100</td>\n",
       "      <td>200</td>\n",
       "      <td>chr5</td>\n",
       "      <td>5000</td>\n",
       "      <td>5100</td>\n",
       "      <td>bedpe_example1</td>\n",
       "      <td>30</td>\n",
       "      <td>+</td>\n",
       "      <td>-</td>\n",
       "    </tr>\n",
       "    <tr>\n",
       "      <th>1</th>\n",
       "      <td>chr9</td>\n",
       "      <td>1000</td>\n",
       "      <td>5000</td>\n",
       "      <td>chr9</td>\n",
       "      <td>3000</td>\n",
       "      <td>3800</td>\n",
       "      <td>bedpe_example2</td>\n",
       "      <td>100</td>\n",
       "      <td>-</td>\n",
       "      <td>-</td>\n",
       "    </tr>\n",
       "  </tbody>\n",
       "</table>\n",
       "</div>"
      ],
      "text/plain": [
       "  chrom1  start1  end1 chrom2  start2  end2           _name  score strand1  \\\n",
       "0   chr1     100   200   chr5    5000  5100  bedpe_example1     30       +   \n",
       "1   chr9    1000  5000   chr9    3000  3800  bedpe_example2    100       -   \n",
       "\n",
       "  strand2  \n",
       "0       -  \n",
       "1       -  "
      ]
     },
     "execution_count": 43,
     "metadata": {},
     "output_type": "execute_result"
    }
   ],
   "source": [
    "\"\"\"\n",
    "1. Step: Get a Pandas DataFrame of Features\n",
    "\n",
    "Either load a BED or BEDPE file directly or create a DataFrame manually.\n",
    "You can use `bed_to_df` with `COL_NAMES_BED` or `COL_NAMES_BEDPE` to automatically\n",
    "assign the required column names for HiPiler or do that yourself.\n",
    "\n",
    "Take a look at https://github.com/flekschas/hipiler/wiki/Data#bedpe-like-table\n",
    "to find out more about the required column names.\n",
    "\n",
    "Any additional column is treated as a numerical measurement unless prefixed with an underscore (`_`).\n",
    "Columns prefixed with an underscore are treated as categorical values.\n",
    "\"\"\"\n",
    "\n",
    "# Load a BED file\n",
    "df = bed_to_df(pybedtools.example_bedtool('a.bed'), names=COL_NAMES_BED)\n",
    "\n",
    "# 1B. Load a BEDPE file\n",
    "df = bed_to_df(pybedtools.example_bedtool('bedpe.bed'), names=COL_NAMES_BEDPE)\n",
    "\n",
    "# Load a CSV file with Pandas\n",
    "df = pandas.read_csv()\n",
    "\n",
    "https://github.com/flekschas/hipiler/wiki/Data#config-file"
   ]
  },
  {
   "cell_type": "code",
   "execution_count": null,
   "metadata": {
    "collapsed": true
   },
   "outputs": [],
   "source": [
    "\"\"\"\n",
    "2. Step: Configure the Snippets\n",
    "\n",
    "Most settings are optional but we \n",
    "\n",
    "For additional information take a look at:\n",
    "\n",
    "https://github.com/flekschas/hipiler/wiki/Data#config-file\n",
    "\"\"\"\n",
    "\n",
    "# URL to a HiGlass server\n",
    "server = 'http://higlass.io'\n",
    "\n",
    "# Float precision of the raw matrix snippets to be returned by the server\n",
    "precision = 2\n",
    "    \n",
    "# Pixel dimension of the matrix snippets toll be returned by the server. Since HiPiler currently only supports squared snippets only one dimension is needed.\n",
    "dims = 50\n",
    "\n",
    "# Number of bins used for padding. This only matters when loading domains.\n",
    "padding = \n",
    "\n",
    "# If true disables loading snippets from cache. Good for testing.\n",
    "noCache = False\n",
    "\n",
    "# If true disables Cooler's balancing.\n",
    "noBalance = True\n",
    "\n",
    "# Percentile at which the values are capped.\n",
    "percentile = 99\n",
    "\n",
    "# Number of diagonals that are ignored, i.e., set to zero.\n",
    "ignoreDiags = 1"
   ]
  },
  {
   "cell_type": "code",
   "execution_count": null,
   "metadata": {
    "collapsed": true
   },
   "outputs": [],
   "source": [
    "\"\"\"\n",
    "3. Step: Get the data set's UUID.\n",
    "\n",
    "Go to http://your.higlass.server.com/api/v1/tilesets/?limit=1000\n",
    "and search (STRG + F or CMD + F) for your data set and copy the uuid.\n",
    "\"\"\"\n",
    "\n",
    "ds = ''"
   ]
  },
  {
   "cell_type": "code",
   "execution_count": 15,
   "metadata": {
    "collapsed": false
   },
   "outputs": [
    {
     "data": {
      "text/plain": [
       "'[[\"chrom1\", \"start1\", \"end1\", \"_name1\", \"score1\", \"strand1\", \"chrom2\", \"start2\", \"end2\", \"strand2\", \"_name2\", \"score2\"], [\"chr1\", 1, 100, \"feature1\", 0, \"+\", \"chr1\", 1, 100, \"+\", \"feature1\", 0], [\"chr1\", 100, 200, \"feature2\", 0, \"+\", \"chr1\", 100, 200, \"+\", \"feature2\", 0], [\"chr1\", 150, 500, \"feature3\", 0, \"-\", \"chr1\", 150, 500, \"-\", \"feature3\", 0], [\"chr1\", 900, 950, \"feature4\", 0, \"+\", \"chr1\", 900, 950, \"+\", \"feature4\", 0]]'"
      ]
     },
     "execution_count": 15,
     "metadata": {},
     "output_type": "execute_result"
    }
   ],
   "source": [
    "bed_to_hipiler(bed)"
   ]
  },
  {
   "cell_type": "code",
   "execution_count": 28,
   "metadata": {
    "collapsed": false
   },
   "outputs": [
    {
     "data": {
      "text/plain": [
       "'[[\"chrom1\", \"start1\", \"end1\", \"chrom2\", \"start2\", \"end2\", \"_name\", \"score\", \"strand1\", \"strand2\", \"dataset\", \"zoomoutlevel\"], [\"chr1\", 100, 200, \"chr5\", 5000, 5100, \"bedpe_example1\", 30, \"+\", \"-\", \"ass\", 0], [\"chr9\", 1000, 5000, \"chr9\", 3000, 3800, \"bedpe_example2\", 100, \"-\", \"-\", \"ass\", 0]]'"
      ]
     },
     "execution_count": 28,
     "metadata": {},
     "output_type": "execute_result"
    }
   ],
   "source": [
    "bedpe_to_hipiler(pybedtools.example_bedtool('bedpe.bed'), 'ass', 0)"
   ]
  },
  {
   "cell_type": "code",
   "execution_count": 40,
   "metadata": {
    "collapsed": false
   },
   "outputs": [
    {
     "ename": "AttributeError",
     "evalue": "'BedTool' object has no attribute '_isbedpe'",
     "output_type": "error",
     "traceback": [
      "\u001b[0;31m---------------------------------------------------------------------------\u001b[0m",
      "\u001b[0;31mAttributeError\u001b[0m                            Traceback (most recent call last)",
      "\u001b[0;32m<ipython-input-40-a6b220ab44dd>\u001b[0m in \u001b[0;36m<module>\u001b[0;34m()\u001b[0m\n\u001b[0;32m----> 1\u001b[0;31m \u001b[0;32mprint\u001b[0m \u001b[0mpybedtools\u001b[0m\u001b[0;34m.\u001b[0m\u001b[0mexample_bedtool\u001b[0m\u001b[0;34m(\u001b[0m\u001b[0;34m'bedpe.bed'\u001b[0m\u001b[0;34m)\u001b[0m\u001b[0;34m.\u001b[0m\u001b[0m_isbedpe\u001b[0m\u001b[0;34m\u001b[0m\u001b[0m\n\u001b[0m",
      "\u001b[0;31mAttributeError\u001b[0m: 'BedTool' object has no attribute '_isbedpe'"
     ]
    }
   ],
   "source": [
    "print pybedtools.example_bedtool('bedpe.bed')._isbedpe"
   ]
  },
  {
   "cell_type": "code",
   "execution_count": null,
   "metadata": {
    "collapsed": true
   },
   "outputs": [],
   "source": []
  }
 ],
 "metadata": {
  "kernelspec": {
   "display_name": "Python 2",
   "language": "python",
   "name": "python2"
  },
  "language_info": {
   "codemirror_mode": {
    "name": "ipython",
    "version": 2
   },
   "file_extension": ".py",
   "mimetype": "text/x-python",
   "name": "python",
   "nbconvert_exporter": "python",
   "pygments_lexer": "ipython2",
   "version": "2.7.12"
  }
 },
 "nbformat": 4,
 "nbformat_minor": 2
}
