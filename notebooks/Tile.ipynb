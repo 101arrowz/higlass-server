{
 "cells": [
  {
   "cell_type": "code",
   "execution_count": 396,
   "metadata": {
    "collapsed": false
   },
   "outputs": [],
   "source": [
    "import numpy as np\n",
    "import pandas as pd\n",
    "import h5py\n",
    "import time\n",
    "\n",
    "from matplotlib.pyplot import imshow\n",
    "import matplotlib.pyplot as plt\n",
    "%matplotlib inline\n",
    "\n",
    "import cooler\n",
    "\n",
    "cooler_path = '/Volumes/FFRITZ/4DN/data/rao/Rao2014-GM12878-MboI-allreps-filtered.5kb.cool'\n",
    "loops_path = '/Volumes/FFRITZ/4DN/data/rao/GSE63525_GM12878_primary+replicate_HiCCUPS_looplist.txt'\n",
    "\n",
    "loops = [\n",
    "    ('chr2', 135215000, 135220000, 'chr2', 135655000, 135660000),\n",
    "    ('chr2', 135740000, 135750000, 'chr2', 137140000, 137150000),\n",
    "    ('chr2', 135760000, 135765000, 'chr2', 136465000, 136470000),\n",
    "    ('chr2', 136230000, 136235000, 'chr2', 136465000, 136470000),\n",
    "    ('chr2', 136670000, 136675000, 'chr2', 136885000, 136890000),\n",
    "    ('chr2', 136670000, 136675000, 'chr2', 137140000, 137145000),\n",
    "    ('chr2', 136890000, 136895000, 'chr2', 137080000, 137085000),\n",
    "    ('chr2', 136890000, 136895000, 'chr2', 137135000, 137140000),\n",
    "    ('chr3', 49575000, 49580000, 'chr3', 49710000, 49715000),\n",
    "    ('chr10', 100225000, 100230000, 'chr10', 100420000, 100425000),\n",
    "]\n",
    "\n",
    "test_loops_chr_2 = pd.DataFrame([{\n",
    "        'x1': 135215000,\n",
    "        'x2': 135220000,\n",
    "        'y1': 135655000,\n",
    "        'y2': 135660000\n",
    "    }, {\n",
    "        'x1': 135740000,\n",
    "        'x2': 135750000,\n",
    "        'y1': 137140000,\n",
    "        'y2': 137150000\n",
    "    }, {\n",
    "        'x1': 135760000,\n",
    "        'x2': 135765000,\n",
    "        'y1': 136465000,\n",
    "        'y2': 136470000\n",
    "    }, {\n",
    "        'x1': 136230000,\n",
    "        'x2': 136235000,\n",
    "        'y1': 136465000,\n",
    "        'y2': 136470000\n",
    "    }\n",
    "], index=['2', '2', '2', '2'])\n",
    "\n",
    "test_loops_chr_22 = pd.DataFrame([{\n",
    "        'x1': 17395000,\n",
    "        'x2': 17400000,\n",
    "        'y1': 17535000,\n",
    "        'y2': 17540000\n",
    "    }, {\n",
    "        'x1': 17400000,\n",
    "        'x2': 17410000,\n",
    "        'y1': 17980000,\n",
    "        'y2': 17990000\n",
    "    }, {\n",
    "        'x1': 17650000,\n",
    "        'x2': 17655000,\n",
    "        'y1': 17980000,\n",
    "        'y2': 17985000\n",
    "    }, {\n",
    "        'x1': 17690000,\n",
    "        'x2': 17700000,\n",
    "        'y1': 18250000,\n",
    "        'y2': 18260000\n",
    "    }\n",
    "], index=['22', '22', '22', '22'])\n",
    "\n",
    "loops = pd.DataFrame.from_csv(loops_path, sep='\\t', header=0)\n",
    "\n",
    "CHROM_SIZES = cooler.read_chromsizes('/Volumes/FFRITZ/4DN/data/hg19-chrom-info.txt')\n",
    "CHROMS = list(CHROM_SIZES.keys())\n",
    "CHROM_IDS = dict(zip(CHROMS, range(len(CHROMS))))\n",
    "CUM_LEN = np.r_[0, np.cumsum(CHROM_SIZES)]"
   ]
  },
  {
   "cell_type": "code",
   "execution_count": 356,
   "metadata": {
    "collapsed": false
   },
   "outputs": [
    {
     "data": {
      "text/plain": [
       "(2847123720, 2847128720, 2847263720, 2847268720)"
      ]
     },
     "execution_count": 356,
     "metadata": {},
     "output_type": "execute_result"
    }
   ],
   "source": [
    "loop2AbsChoord(('chr22', 17395000, 17400000, 'chr22', 17535000, 17540000))"
   ]
  },
  {
   "cell_type": "code",
   "execution_count": 2,
   "metadata": {
    "collapsed": true
   },
   "outputs": [],
   "source": [
    "def chrCoord2AbsChoord(chr, x, y):\n",
    "    offset = CUM_LEN[CHROM_IDS[chr]]\n",
    "    \n",
    "    return (offset + x, offset + y)"
   ]
  },
  {
   "cell_type": "code",
   "execution_count": 3,
   "metadata": {
    "collapsed": true
   },
   "outputs": [],
   "source": [
    "def loop2AbsChoord(tuple):\n",
    "    return chrCoord2AbsChoord(*tuple[0:3]) + chrCoord2AbsChoord(*tuple[3:6])"
   ]
  },
  {
   "cell_type": "code",
   "execution_count": 8,
   "metadata": {
    "collapsed": true
   },
   "outputs": [],
   "source": [
    "def absCoord2bin(c, pos):\n",
    "    try:\n",
    "        chr_id = np.flatnonzero(CUM_LEN > pos)[0] - 1\n",
    "    except IndexError:\n",
    "        return c.info['nbins']\n",
    "    \n",
    "    chrom = CHROMS[chr_id]\n",
    "    relPos = pos - CUM_LEN[chr_id]\n",
    "    \n",
    "    return c.offset((chrom, relPos, CHROM_SIZES[chrom]))"
   ]
  },
  {
   "cell_type": "code",
   "execution_count": 410,
   "metadata": {
    "collapsed": false
   },
   "outputs": [],
   "source": [
    "def get_loop_tile(c, start_pos1, end_pos1, start_pos2, end_pos2, padding=10, normalize=True, balanced=True, max_dim=22):\n",
    "    # absCoord2bin(...) returns the inclusive bin ID but in the python work the end position is always exclusive\n",
    "    start_bin_1 = max(absCoord2bin(c, start_pos1) - padding, 0)\n",
    "    start_bin_2 = max(absCoord2bin(c, start_pos2) - padding, 0)\n",
    "    end_bin_1 = absCoord2bin(c, end_pos1) + 1 + padding\n",
    "    end_bin_2 = absCoord2bin(c, end_pos2) + 1 + padding\n",
    "\n",
    "    pixels = c.matrix(as_pixels=True, max_chunk=np.inf, balance=True)[start_bin_1:end_bin_1, start_bin_2:end_bin_2]\n",
    "    \n",
    "\n",
    "    pixels['id_1'] = pixels['bin1_id'] - start_bin_1\n",
    "    pixels['id_2'] = pixels['bin2_id'] - start_bin_2\n",
    "\n",
    "    dim = min(abs(start_bin_1 - end_bin_1), abs(start_bin_2 - end_bin_2))\n",
    "\n",
    "    out = np.zeros(dim**2, dtype=np.float)\n",
    "    \n",
    "    accessor = 'count'\n",
    "    \n",
    "    if balanced:\n",
    "        accessor = 'balanced'\n",
    "\n",
    "    for index, row in pixels.iterrows():\n",
    "        out[row['id_1'].astype(np.uint32) * dim + row['id_2'].astype(np.uint32)] = np.nan_to_num(row[accessor])\n",
    "\n",
    "    if normalize:\n",
    "        out = out / np.max(out)\n",
    "        \n",
    "    return out.reshape(dim, dim)[:max_dim, :max_dim]"
   ]
  },
  {
   "cell_type": "code",
   "execution_count": 417,
   "metadata": {
    "collapsed": true
   },
   "outputs": [],
   "source": [
    "def get_intra_loops_by_chr(chr, max=-1, balanced=True):\n",
    "    with h5py.File(f_path, 'r') as f:\n",
    "        c = cooler.Cooler(f)\n",
    "        \n",
    "        chr = str(chr)\n",
    "        s_chr = 'chr%s' % chr\n",
    "\n",
    "        chr_loops = loops[loops['chr2'] == chr].loc[chr]\n",
    "\n",
    "        mat_snippets = np.zeros((len(chr_loops), 22, 22))\n",
    "\n",
    "        k = 0\n",
    "        for index, loop in chr_loops.iterrows():\n",
    "            t0 = time.time()\n",
    "            \n",
    "            abs_coords = loop2AbsChoord((s_chr, loop['x1'], loop['x2'], s_chr, loop['y1'], loop['y2']))\n",
    "            mat_snippets[k] = get_loop_tile(c, *abs_coords, balanced=balanced)\n",
    "    \n",
    "            print \"%d. took %f sec\" % (k, (time.time() - t0))\n",
    "            \n",
    "            if max > 0 and k >= max:\n",
    "                break\n",
    "            k += 1\n",
    "    \n",
    "    return mat_snippets"
   ]
  },
  {
   "cell_type": "code",
   "execution_count": 418,
   "metadata": {
    "collapsed": false,
    "scrolled": true
   },
   "outputs": [
    {
     "name": "stdout",
     "output_type": "stream",
     "text": [
      "0. took 0.172275 sec\n",
      "1. took 0.149170 sec\n",
      "2. took 0.179210 sec\n",
      "3. took 0.183171 sec\n",
      "4. took 0.172094 sec\n",
      "5. took 0.137325 sec\n",
      "6. took 0.146693 sec\n",
      "7. took 0.182608 sec\n",
      "8. took 0.182189 sec\n",
      "9. took 0.162428 sec\n",
      "10. took 0.157948 sec\n",
      "11. took 0.179437 sec\n",
      "12. took 0.177533 sec\n",
      "13. took 0.166281 sec\n",
      "14. took 0.173804 sec\n",
      "15. took 0.148587 sec\n",
      "16. took 0.171806 sec\n",
      "17. took 0.150027 sec\n",
      "18. took 0.144950 sec\n",
      "19. took 0.153865 sec\n",
      "20. took 0.154420 sec\n",
      "21. took 0.171508 sec\n",
      "22. took 0.145582 sec\n",
      "23. took 0.159116 sec\n",
      "24. took 0.157864 sec\n",
      "25. took 0.109732 sec\n",
      "26. took 0.158504 sec\n",
      "27. took 0.167509 sec\n",
      "28. took 0.151443 sec\n",
      "29. took 0.158517 sec\n",
      "30. took 0.125660 sec\n",
      "31. took 0.170930 sec\n",
      "32. took 0.186989 sec\n",
      "33. took 0.125773 sec\n",
      "34. took 0.170760 sec\n",
      "35. took 0.119210 sec\n",
      "36. took 0.157653 sec\n",
      "37. took 0.157230 sec\n",
      "38. took 0.170232 sec\n",
      "39. took 0.165907 sec\n",
      "40. took 0.160473 sec\n",
      "41. took 0.171191 sec\n",
      "42. took 0.154297 sec\n",
      "43. took 0.165449 sec\n",
      "44. took 0.150957 sec\n",
      "45. took 0.178409 sec\n",
      "46. took 0.151979 sec\n",
      "47. took 0.168933 sec\n",
      "48. took 0.172097 sec\n",
      "49. took 0.139950 sec\n",
      "50. took 0.166106 sec\n",
      "51. took 0.169156 sec\n",
      "52. took 0.163960 sec\n",
      "53. took 0.169084 sec\n",
      "54. took 0.158040 sec\n",
      "55. took 0.157597 sec\n",
      "56. took 0.159501 sec\n",
      "57. took 0.147124 sec\n",
      "58. took 0.166593 sec\n",
      "59. took 0.168175 sec\n",
      "60. took 0.154578 sec\n",
      "61. took 0.171820 sec\n",
      "62. took 0.159106 sec\n",
      "63. took 0.152912 sec\n",
      "64. took 0.156551 sec\n",
      "65. took 0.151616 sec\n",
      "66. took 0.157368 sec\n",
      "67. took 0.166397 sec\n",
      "68. took 0.139368 sec\n",
      "69. took 0.154291 sec\n",
      "70. took 0.160111 sec\n",
      "71. took 0.180852 sec\n",
      "72. took 0.157768 sec\n",
      "73. took 0.170596 sec\n",
      "74. took 0.171992 sec\n",
      "75. took 0.172114 sec\n",
      "76. took 0.163389 sec\n",
      "77. took 0.165700 sec\n",
      "78. took 0.165249 sec\n",
      "79. took 0.160142 sec\n",
      "80. took 0.151315 sec\n",
      "81. took 0.193570 sec\n",
      "82. took 0.155842 sec\n",
      "83. took 0.159179 sec\n",
      "84. took 0.156149 sec\n",
      "85. took 0.161364 sec\n",
      "86. took 0.160873 sec\n",
      "87. took 0.160532 sec\n",
      "88. took 0.155213 sec\n",
      "89. took 0.154314 sec\n",
      "90. took 0.161389 sec\n",
      "91. took 0.181311 sec\n",
      "92. took 0.169718 sec\n",
      "93. took 0.183326 sec\n",
      "94. took 0.164226 sec\n",
      "95. took 0.178505 sec\n",
      "96. took 0.165733 sec\n",
      "97. took 0.159345 sec\n",
      "98. took 0.165923 sec\n",
      "99. took 0.165927 sec\n",
      "100. took 0.173766 sec\n",
      "101. took 0.158917 sec\n",
      "102. took 0.147740 sec\n",
      "103. took 0.186862 sec\n",
      "104. took 0.169450 sec\n",
      "105. took 0.161859 sec\n",
      "106. took 0.160188 sec\n",
      "107. took 0.167817 sec\n",
      "108. took 0.164822 sec\n",
      "109. took 0.140829 sec\n",
      "110. took 0.165060 sec\n",
      "111. took 0.164215 sec\n",
      "112. took 0.151702 sec\n",
      "113. took 0.161544 sec\n",
      "114. took 0.143291 sec\n",
      "115. took 0.155023 sec\n",
      "116. took 0.179004 sec\n",
      "117. took 0.168963 sec\n",
      "118. took 0.163180 sec\n",
      "119. took 0.163058 sec\n",
      "120. took 0.155312 sec\n",
      "121. took 0.150172 sec\n",
      "122. took 0.162717 sec\n",
      "123. took 0.164009 sec\n",
      "124. took 0.160283 sec\n",
      "125. took 0.151115 sec\n",
      "126. took 0.169982 sec\n",
      "127. took 0.167756 sec\n",
      "128. took 0.156249 sec\n",
      "129. took 0.159006 sec\n",
      "130. took 0.178719 sec\n",
      "131. took 0.159008 sec\n",
      "132. took 0.168610 sec\n",
      "133. took 0.167923 sec\n",
      "134. took 0.150751 sec\n",
      "135. took 0.167246 sec\n",
      "136. took 0.139369 sec\n",
      "137. took 0.163640 sec\n",
      "138. took 0.150637 sec\n",
      "139. took 0.153596 sec\n",
      "140. took 0.145747 sec\n",
      "141. took 0.167270 sec\n",
      "142. took 0.154635 sec\n",
      "143. took 0.157166 sec\n",
      "144. took 0.154100 sec\n",
      "145. took 0.158239 sec\n",
      "146. took 0.165610 sec\n",
      "147. took 0.162317 sec\n",
      "148. took 0.155195 sec\n",
      "149. took 0.117179 sec\n",
      "150. took 0.156469 sec\n",
      "151. took 0.154212 sec\n",
      "152. took 0.186719 sec\n",
      "153. took 0.164385 sec\n",
      "154. took 0.166028 sec\n",
      "155. took 0.164080 sec\n",
      "156. took 0.167814 sec\n",
      "157. took 0.170778 sec\n",
      "158. took 0.153226 sec\n",
      "159. took 0.144739 sec\n",
      "160. took 0.169262 sec\n",
      "161. took 0.156620 sec\n",
      "162. took 0.158340 sec\n",
      "26.3258199692 sec\n"
     ]
    }
   ],
   "source": [
    "t0 = time.time()\n",
    "loop_imgs_chr_22 = get_intra_loops_by_chr(22)\n",
    "print time.time() - t0, 'sec'"
   ]
  },
  {
   "cell_type": "code",
   "execution_count": 419,
   "metadata": {
    "collapsed": false
   },
   "outputs": [
    {
     "data": {
      "text/plain": [
       "<matplotlib.image.AxesImage at 0x115871610>"
      ]
     },
     "execution_count": 419,
     "metadata": {},
     "output_type": "execute_result"
    },
    {
     "data": {
      "image/png": "[encoded data removed]",
      "text/plain": [
       "<matplotlib.figure.Figure at 0x115665650>"
      ]
     },
     "metadata": {},
     "output_type": "display_data"
    }
   ],
   "source": [
    "imshow(loop_imgs_chr_22[150], 'gray', interpolation='none')"
   ]
  },
  {
   "cell_type": "code",
   "execution_count": 420,
   "metadata": {
    "collapsed": false
   },
   "outputs": [],
   "source": [
    "import json\n",
    "with open('loop_imgs_chr_22.dyjson', 'w') as f:\n",
    "    json.dump(loop_imgs_chr_22.tolist(), f)"
   ]
  },
  {
   "cell_type": "code",
   "execution_count": null,
   "metadata": {
    "collapsed": true
   },
   "outputs": [],
   "source": []
  }
 ],
 "metadata": {
  "kernelspec": {
   "display_name": "Python 2",
   "language": "python",
   "name": "python2"
  },
  "language_info": {
   "codemirror_mode": {
    "name": "ipython",
    "version": 2
   },
   "file_extension": ".py",
   "mimetype": "text/x-python",
   "name": "python",
   "nbconvert_exporter": "python",
   "pygments_lexer": "ipython2",
   "version": "2.7.12"
  }
 },
 "nbformat": 4,
 "nbformat_minor": 2
}
